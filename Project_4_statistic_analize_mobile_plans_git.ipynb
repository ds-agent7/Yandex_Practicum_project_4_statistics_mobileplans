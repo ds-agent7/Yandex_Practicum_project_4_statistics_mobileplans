{
 "cells": [
  {
   "cell_type": "markdown",
   "metadata": {},
   "source": [
    "## Project.4 Статистический анализ данных (тарифов сотовой связи)\n",
    "\n",
    "    (yandex_practicum by student@pavel_matushevskiy, Volgograd 2022)"
   ]
  },
  {
   "cell_type": "markdown",
   "metadata": {},
   "source": [
    "### Описание проекта\n",
    "\n",
    "Вы аналитик компании «Мегалайн» — федерального оператора сотовой связи. Клиентам предлагают два тарифных плана: «Смарт» и «Ультра». \n",
    "Чтобы скорректировать рекламный бюджет, коммерческий департамент хочет понять, какой тариф приносит больше денег.\n",
    "Необходимо сделать предварительный анализ тарифов на небольшой выборке клиентов. В вашем распоряжении данные 500 пользователей «Мегалайна»: кто они, откуда, каким тарифом пользуются, сколько звонков и сообщений каждый отправил за 2018 год. \n",
    "Нужно проанализировать поведение клиентов и сделать вывод — какой тариф лучше."
   ]
  },
  {
   "cell_type": "markdown",
   "metadata": {},
   "source": [
    "### Описание тарифов:\n",
    "\n",
    "### Тариф Смарт\n",
    "\n",
    "- Ежемесячная плата: 550 рублей\n",
    "- Включено 500 минут разговора, 50 сообщений и 15 Гб интернет-трафика\n",
    "- Стоимость услуг сверх тарифного пакета:\n",
    "  - минута разговора: 3 рубля\n",
    "  - сообщение: 3 рубля\n",
    "  - 1 Гб интернет-трафика: 200 рублей\n",
    "  \n",
    "### Тариф Ультра\n",
    "\n",
    "- Ежемесячная плата: 1950 рублей\n",
    "- Включено 3000 минут разговора, 1000 сообщений и 30 Гб интернет-трафика\n",
    "- Стоимость услуг сверх тарифного пакета:\n",
    "  - минута разговора: 1 рубль\n",
    "  - сообщение: 1 рубль\n",
    "  - 1 Гб интернет-трафика: 150 рублей \n",
    "  \n",
    "  #### Примечание:\n",
    "«Мегалайн» всегда округляет секунды до минут, а мегабайты — до гигабайт. Каждый звонок округляется отдельно: даже если он длился всего 1 секунду, будет засчитан как 1 минута.  \n",
    "\n",
    "Для веб-трафика отдельные сессии не считаются. Вместо этого общая сумма за месяц округляется в бо́льшую сторону. Если абонент использует 1025 мегабайт в этом месяце, с него возьмут плату за 2 гигабайта."
   ]
  },
  {
   "cell_type": "markdown",
   "metadata": {},
   "source": [
    "### Описание данных\n",
    "\n",
    "- Таблица `users` (информация о пользователях):\n",
    "  - `user_id` — уникальный идентификатор пользователя\n",
    "  - `first_name` — имя пользователя\n",
    "  - `last_name` — фамилия пользователя\n",
    "  - `age` — возраст пользователя (годы)\n",
    "  - `reg_date` — дата подключения тарифа (день, месяц, год)\n",
    "  - `churn_date` — дата прекращения пользования тарифом (если значение пропущено, то тариф ещё действовал на момент выгрузки данных)\n",
    "  - `city` — город проживания пользователя\n",
    "  - `tariff` — название тарифного плана\n",
    "- Таблица `calls` (информация о звонках):\n",
    "  - `id` — уникальный номер звонка\n",
    "  - `call_date` — дата звонка\n",
    "  - `duration` — длительность звонка в минутах\n",
    "  - `user_id` — идентификатор пользователя, сделавшего звонок \n",
    "- `Таблица` messages (информация о сообщениях):\n",
    "   - `id` — уникальный номер сообщения\n",
    "   - `message_date` — дата сообщения\n",
    "   - `user_id` — идентификатор пользователя, отправившего сообщение\n",
    "- Таблица `internet` (информация об интернет-сессиях):\n",
    "  - `id` — уникальный номер сессии\n",
    "  - `mb_used` — объём потраченного за сессию интернет-трафика (в мегабайтах)\n",
    "  - `session_date` — дата интернет-сессии\n",
    "  - `user_id` — идентификатор пользователя\n",
    "- Таблица `tariffs` (информация о тарифах):\n",
    "  - `tariff_name` — название тарифа\n",
    "  - `rub_monthly_fee` — ежемесячная абонентская плата в рублях\n",
    "  - `minutes_included` — количество минут разговора в месяц, включённых в абонентскую плату\n",
    "  - `messages_included` — количество сообщений в месяц, включённых в абонентскую плату\n",
    "  - `mb_per_month_included` — объём интернет-трафика, включённого в абонентскую плату (в мегабайтах)\n",
    "  - `rub_per_minute` — стоимость минуты разговора сверх тарифного пакета (например, если в тарифе 100 минут разговора в месяц, то со 101 минуты будет взиматься плата)\n",
    "  - `rub_per_message` — стоимость отправки сообщения сверх тарифного пакета\n",
    "  - `rub_per_gb` — стоимость дополнительного гигабайта интернет-трафика сверх тарифного пакета (1 гигабайт = 1024 мегабайта)"
   ]
  },
  {
   "cell_type": "markdown",
   "metadata": {},
   "source": [
    "### Шаг.  Импорт библиотек"
   ]
  },
  {
   "cell_type": "code",
   "execution_count": 1,
   "metadata": {
    "ExecuteTime": {
     "end_time": "2022-10-16T15:01:48.746839Z",
     "start_time": "2022-10-16T15:01:46.459190Z"
    }
   },
   "outputs": [],
   "source": [
    "import matplotlib.pyplot as plt\n",
    "from scipy import stats as st\n",
    "import seaborn as sns\n",
    "import pandas as pd\n",
    "import numpy as np\n",
    "import math"
   ]
  },
  {
   "cell_type": "markdown",
   "metadata": {
    "ExecuteTime": {
     "end_time": "2022-03-29T12:59:20.613055Z",
     "start_time": "2022-03-29T12:59:20.609494Z"
    }
   },
   "source": [
    "### Шаг 1. Импорт данных"
   ]
  },
  {
   "cell_type": "markdown",
   "metadata": {},
   "source": [
    "Поскольку данные хранятся в куче разных файлов, на данном этапе попробуем собрать в один датафрейм для более удобного анализа. Список файлов:\n",
    "- /datasets/calls.csv. \n",
    "- /datasets/users.csv.\n",
    "- /datasets/internet.csv. \n",
    "- /datasets/tariffs.csv. \n",
    "- /datasets/messages.csv. "
   ]
  },
  {
   "cell_type": "code",
   "execution_count": 2,
   "metadata": {
    "ExecuteTime": {
     "end_time": "2022-10-16T15:01:51.128242Z",
     "start_time": "2022-10-16T15:01:50.774634Z"
    }
   },
   "outputs": [],
   "source": [
    "df_calls = pd.read_csv('datasets/calls.csv')\n",
    "df_users = pd.read_csv('datasets/users.csv')\n",
    "df_internet = pd.read_csv('datasets/internet.csv', index_col=0)\n",
    "df_tariffs = pd.read_csv('datasets/tariffs.csv')\n",
    "df_messages = pd.read_csv('datasets/messages.csv')\n",
    "\n",
    "# version for MacOS:\n",
    "#df_calls = pd.read_csv('datasets/calls.csv')"
   ]
  },
  {
   "cell_type": "code",
   "execution_count": 3,
   "metadata": {
    "ExecuteTime": {
     "end_time": "2022-10-16T15:02:41.105814Z",
     "start_time": "2022-10-16T15:02:40.938467Z"
    }
   },
   "outputs": [
    {
     "name": "stdout",
     "output_type": "stream",
     "text": [
      "<class 'pandas.core.frame.DataFrame'>\n",
      "RangeIndex: 500 entries, 0 to 499\n",
      "Data columns (total 8 columns):\n",
      " #   Column      Non-Null Count  Dtype \n",
      "---  ------      --------------  ----- \n",
      " 0   user_id     500 non-null    int64 \n",
      " 1   age         500 non-null    int64 \n",
      " 2   churn_date  38 non-null     object\n",
      " 3   city        500 non-null    object\n",
      " 4   first_name  500 non-null    object\n",
      " 5   last_name   500 non-null    object\n",
      " 6   reg_date    500 non-null    object\n",
      " 7   tariff      500 non-null    object\n",
      "dtypes: int64(2), object(6)\n",
      "memory usage: 31.4+ KB\n",
      "\n",
      "<class 'pandas.core.frame.DataFrame'>\n",
      "RangeIndex: 2 entries, 0 to 1\n",
      "Data columns (total 8 columns):\n",
      " #   Column                 Non-Null Count  Dtype \n",
      "---  ------                 --------------  ----- \n",
      " 0   messages_included      2 non-null      int64 \n",
      " 1   mb_per_month_included  2 non-null      int64 \n",
      " 2   minutes_included       2 non-null      int64 \n",
      " 3   rub_monthly_fee        2 non-null      int64 \n",
      " 4   rub_per_gb             2 non-null      int64 \n",
      " 5   rub_per_message        2 non-null      int64 \n",
      " 6   rub_per_minute         2 non-null      int64 \n",
      " 7   tariff_name            2 non-null      object\n",
      "dtypes: int64(7), object(1)\n",
      "memory usage: 256.0+ bytes\n",
      "\n",
      "<class 'pandas.core.frame.DataFrame'>\n",
      "RangeIndex: 202607 entries, 0 to 202606\n",
      "Data columns (total 4 columns):\n",
      " #   Column     Non-Null Count   Dtype  \n",
      "---  ------     --------------   -----  \n",
      " 0   id         202607 non-null  object \n",
      " 1   call_date  202607 non-null  object \n",
      " 2   duration   202607 non-null  float64\n",
      " 3   user_id    202607 non-null  int64  \n",
      "dtypes: float64(1), int64(1), object(2)\n",
      "memory usage: 6.2+ MB\n",
      "\n",
      "<class 'pandas.core.frame.DataFrame'>\n",
      "RangeIndex: 123036 entries, 0 to 123035\n",
      "Data columns (total 3 columns):\n",
      " #   Column        Non-Null Count   Dtype \n",
      "---  ------        --------------   ----- \n",
      " 0   id            123036 non-null  object\n",
      " 1   message_date  123036 non-null  object\n",
      " 2   user_id       123036 non-null  int64 \n",
      "dtypes: int64(1), object(2)\n",
      "memory usage: 2.8+ MB\n",
      "\n",
      "<class 'pandas.core.frame.DataFrame'>\n",
      "Int64Index: 149396 entries, 0 to 149395\n",
      "Data columns (total 4 columns):\n",
      " #   Column        Non-Null Count   Dtype  \n",
      "---  ------        --------------   -----  \n",
      " 0   id            149396 non-null  object \n",
      " 1   mb_used       149396 non-null  float64\n",
      " 2   session_date  149396 non-null  object \n",
      " 3   user_id       149396 non-null  int64  \n",
      "dtypes: float64(1), int64(1), object(2)\n",
      "memory usage: 5.7+ MB\n",
      "\n"
     ]
    }
   ],
   "source": [
    "# выведем общую информацию по всем датасетам:\n",
    "df_list = (df_users, df_tariffs, df_calls, df_messages, df_internet)\n",
    "for df in df_list:\n",
    "    df.info()\n",
    "    print()"
   ]
  },
  {
   "cell_type": "markdown",
   "metadata": {},
   "source": [
    "#### Наблюдения:\n",
    "- В `df_calls`:\n",
    "  `id` - строка (переведем в int), `call_date` - нужно перевести в DateTime\n",
    "- В `df_users`:\n",
    "     `churn_date` и `reg_date` - нужно изменить тип на DateTime\n",
    "- В `df_internet`:\n",
    "  столбец \"Unnamed: 0\" обработать (или index_col=0 при загрузке) , `session_date` - перевести в тип DateTime, `id`- строка (переведем в int)\n",
    "- В `df_messages`:\n",
    "    нужно изменить `message_date` в DateTime,  `id` - строка (переведем в int)"
   ]
  },
  {
   "cell_type": "markdown",
   "metadata": {
    "ExecuteTime": {
     "end_time": "2022-04-18T13:02:55.915368Z",
     "start_time": "2022-04-18T13:02:55.900420Z"
    }
   },
   "source": [
    "Посмотрим на сами данные:"
   ]
  },
  {
   "cell_type": "code",
   "execution_count": 4,
   "metadata": {
    "ExecuteTime": {
     "end_time": "2022-10-16T15:02:47.810211Z",
     "start_time": "2022-10-16T15:02:47.787969Z"
    }
   },
   "outputs": [
    {
     "data": {
      "text/html": [
       "<div>\n",
       "<style scoped>\n",
       "    .dataframe tbody tr th:only-of-type {\n",
       "        vertical-align: middle;\n",
       "    }\n",
       "\n",
       "    .dataframe tbody tr th {\n",
       "        vertical-align: top;\n",
       "    }\n",
       "\n",
       "    .dataframe thead th {\n",
       "        text-align: right;\n",
       "    }\n",
       "</style>\n",
       "<table border=\"1\" class=\"dataframe\">\n",
       "  <thead>\n",
       "    <tr style=\"text-align: right;\">\n",
       "      <th></th>\n",
       "      <th>user_id</th>\n",
       "      <th>age</th>\n",
       "      <th>churn_date</th>\n",
       "      <th>city</th>\n",
       "      <th>first_name</th>\n",
       "      <th>last_name</th>\n",
       "      <th>reg_date</th>\n",
       "      <th>tariff</th>\n",
       "    </tr>\n",
       "  </thead>\n",
       "  <tbody>\n",
       "    <tr>\n",
       "      <th>0</th>\n",
       "      <td>1000</td>\n",
       "      <td>52</td>\n",
       "      <td>NaN</td>\n",
       "      <td>Краснодар</td>\n",
       "      <td>Рафаил</td>\n",
       "      <td>Верещагин</td>\n",
       "      <td>2018-05-25</td>\n",
       "      <td>ultra</td>\n",
       "    </tr>\n",
       "    <tr>\n",
       "      <th>1</th>\n",
       "      <td>1001</td>\n",
       "      <td>41</td>\n",
       "      <td>NaN</td>\n",
       "      <td>Москва</td>\n",
       "      <td>Иван</td>\n",
       "      <td>Ежов</td>\n",
       "      <td>2018-11-01</td>\n",
       "      <td>smart</td>\n",
       "    </tr>\n",
       "    <tr>\n",
       "      <th>2</th>\n",
       "      <td>1002</td>\n",
       "      <td>59</td>\n",
       "      <td>NaN</td>\n",
       "      <td>Стерлитамак</td>\n",
       "      <td>Евгений</td>\n",
       "      <td>Абрамович</td>\n",
       "      <td>2018-06-17</td>\n",
       "      <td>smart</td>\n",
       "    </tr>\n",
       "    <tr>\n",
       "      <th>3</th>\n",
       "      <td>1003</td>\n",
       "      <td>23</td>\n",
       "      <td>NaN</td>\n",
       "      <td>Москва</td>\n",
       "      <td>Белла</td>\n",
       "      <td>Белякова</td>\n",
       "      <td>2018-08-17</td>\n",
       "      <td>ultra</td>\n",
       "    </tr>\n",
       "    <tr>\n",
       "      <th>4</th>\n",
       "      <td>1004</td>\n",
       "      <td>68</td>\n",
       "      <td>NaN</td>\n",
       "      <td>Новокузнецк</td>\n",
       "      <td>Татьяна</td>\n",
       "      <td>Авдеенко</td>\n",
       "      <td>2018-05-14</td>\n",
       "      <td>ultra</td>\n",
       "    </tr>\n",
       "    <tr>\n",
       "      <th>5</th>\n",
       "      <td>1005</td>\n",
       "      <td>67</td>\n",
       "      <td>NaN</td>\n",
       "      <td>Набережные Челны</td>\n",
       "      <td>Афанасий</td>\n",
       "      <td>Горлов</td>\n",
       "      <td>2018-01-25</td>\n",
       "      <td>smart</td>\n",
       "    </tr>\n",
       "    <tr>\n",
       "      <th>6</th>\n",
       "      <td>1006</td>\n",
       "      <td>21</td>\n",
       "      <td>NaN</td>\n",
       "      <td>Ульяновск</td>\n",
       "      <td>Леонид</td>\n",
       "      <td>Ермолаев</td>\n",
       "      <td>2018-02-26</td>\n",
       "      <td>smart</td>\n",
       "    </tr>\n",
       "    <tr>\n",
       "      <th>7</th>\n",
       "      <td>1007</td>\n",
       "      <td>65</td>\n",
       "      <td>NaN</td>\n",
       "      <td>Москва</td>\n",
       "      <td>Юна</td>\n",
       "      <td>Березина</td>\n",
       "      <td>2018-04-19</td>\n",
       "      <td>smart</td>\n",
       "    </tr>\n",
       "    <tr>\n",
       "      <th>8</th>\n",
       "      <td>1008</td>\n",
       "      <td>63</td>\n",
       "      <td>NaN</td>\n",
       "      <td>Челябинск</td>\n",
       "      <td>Рустэм</td>\n",
       "      <td>Пономарёв</td>\n",
       "      <td>2018-12-19</td>\n",
       "      <td>smart</td>\n",
       "    </tr>\n",
       "    <tr>\n",
       "      <th>9</th>\n",
       "      <td>1009</td>\n",
       "      <td>24</td>\n",
       "      <td>NaN</td>\n",
       "      <td>Пермь</td>\n",
       "      <td>Василиса</td>\n",
       "      <td>Блинова</td>\n",
       "      <td>2018-03-22</td>\n",
       "      <td>smart</td>\n",
       "    </tr>\n",
       "  </tbody>\n",
       "</table>\n",
       "</div>"
      ],
      "text/plain": [
       "   user_id  age churn_date              city first_name  last_name  \\\n",
       "0     1000   52        NaN         Краснодар     Рафаил  Верещагин   \n",
       "1     1001   41        NaN            Москва       Иван       Ежов   \n",
       "2     1002   59        NaN       Стерлитамак    Евгений  Абрамович   \n",
       "3     1003   23        NaN            Москва      Белла   Белякова   \n",
       "4     1004   68        NaN       Новокузнецк    Татьяна   Авдеенко   \n",
       "5     1005   67        NaN  Набережные Челны   Афанасий     Горлов   \n",
       "6     1006   21        NaN         Ульяновск     Леонид   Ермолаев   \n",
       "7     1007   65        NaN            Москва        Юна   Березина   \n",
       "8     1008   63        NaN         Челябинск     Рустэм  Пономарёв   \n",
       "9     1009   24        NaN             Пермь   Василиса    Блинова   \n",
       "\n",
       "     reg_date tariff  \n",
       "0  2018-05-25  ultra  \n",
       "1  2018-11-01  smart  \n",
       "2  2018-06-17  smart  \n",
       "3  2018-08-17  ultra  \n",
       "4  2018-05-14  ultra  \n",
       "5  2018-01-25  smart  \n",
       "6  2018-02-26  smart  \n",
       "7  2018-04-19  smart  \n",
       "8  2018-12-19  smart  \n",
       "9  2018-03-22  smart  "
      ]
     },
     "execution_count": 4,
     "metadata": {},
     "output_type": "execute_result"
    }
   ],
   "source": [
    "df_users.head(10)"
   ]
  },
  {
   "cell_type": "code",
   "execution_count": 5,
   "metadata": {
    "ExecuteTime": {
     "end_time": "2022-10-16T15:02:51.388397Z",
     "start_time": "2022-10-16T15:02:51.369723Z"
    }
   },
   "outputs": [
    {
     "data": {
      "text/html": [
       "<div>\n",
       "<style scoped>\n",
       "    .dataframe tbody tr th:only-of-type {\n",
       "        vertical-align: middle;\n",
       "    }\n",
       "\n",
       "    .dataframe tbody tr th {\n",
       "        vertical-align: top;\n",
       "    }\n",
       "\n",
       "    .dataframe thead th {\n",
       "        text-align: right;\n",
       "    }\n",
       "</style>\n",
       "<table border=\"1\" class=\"dataframe\">\n",
       "  <thead>\n",
       "    <tr style=\"text-align: right;\">\n",
       "      <th></th>\n",
       "      <th>id</th>\n",
       "      <th>call_date</th>\n",
       "      <th>duration</th>\n",
       "      <th>user_id</th>\n",
       "    </tr>\n",
       "  </thead>\n",
       "  <tbody>\n",
       "    <tr>\n",
       "      <th>0</th>\n",
       "      <td>1000_0</td>\n",
       "      <td>2018-07-25</td>\n",
       "      <td>0.00</td>\n",
       "      <td>1000</td>\n",
       "    </tr>\n",
       "    <tr>\n",
       "      <th>1</th>\n",
       "      <td>1000_1</td>\n",
       "      <td>2018-08-17</td>\n",
       "      <td>0.00</td>\n",
       "      <td>1000</td>\n",
       "    </tr>\n",
       "    <tr>\n",
       "      <th>2</th>\n",
       "      <td>1000_2</td>\n",
       "      <td>2018-06-11</td>\n",
       "      <td>2.85</td>\n",
       "      <td>1000</td>\n",
       "    </tr>\n",
       "    <tr>\n",
       "      <th>3</th>\n",
       "      <td>1000_3</td>\n",
       "      <td>2018-09-21</td>\n",
       "      <td>13.80</td>\n",
       "      <td>1000</td>\n",
       "    </tr>\n",
       "    <tr>\n",
       "      <th>4</th>\n",
       "      <td>1000_4</td>\n",
       "      <td>2018-12-15</td>\n",
       "      <td>5.18</td>\n",
       "      <td>1000</td>\n",
       "    </tr>\n",
       "    <tr>\n",
       "      <th>5</th>\n",
       "      <td>1000_5</td>\n",
       "      <td>2018-11-02</td>\n",
       "      <td>0.00</td>\n",
       "      <td>1000</td>\n",
       "    </tr>\n",
       "    <tr>\n",
       "      <th>6</th>\n",
       "      <td>1000_6</td>\n",
       "      <td>2018-10-18</td>\n",
       "      <td>0.00</td>\n",
       "      <td>1000</td>\n",
       "    </tr>\n",
       "    <tr>\n",
       "      <th>7</th>\n",
       "      <td>1000_7</td>\n",
       "      <td>2018-08-22</td>\n",
       "      <td>18.31</td>\n",
       "      <td>1000</td>\n",
       "    </tr>\n",
       "    <tr>\n",
       "      <th>8</th>\n",
       "      <td>1000_8</td>\n",
       "      <td>2018-09-15</td>\n",
       "      <td>18.44</td>\n",
       "      <td>1000</td>\n",
       "    </tr>\n",
       "    <tr>\n",
       "      <th>9</th>\n",
       "      <td>1000_9</td>\n",
       "      <td>2018-08-15</td>\n",
       "      <td>0.00</td>\n",
       "      <td>1000</td>\n",
       "    </tr>\n",
       "  </tbody>\n",
       "</table>\n",
       "</div>"
      ],
      "text/plain": [
       "       id   call_date  duration  user_id\n",
       "0  1000_0  2018-07-25      0.00     1000\n",
       "1  1000_1  2018-08-17      0.00     1000\n",
       "2  1000_2  2018-06-11      2.85     1000\n",
       "3  1000_3  2018-09-21     13.80     1000\n",
       "4  1000_4  2018-12-15      5.18     1000\n",
       "5  1000_5  2018-11-02      0.00     1000\n",
       "6  1000_6  2018-10-18      0.00     1000\n",
       "7  1000_7  2018-08-22     18.31     1000\n",
       "8  1000_8  2018-09-15     18.44     1000\n",
       "9  1000_9  2018-08-15      0.00     1000"
      ]
     },
     "execution_count": 5,
     "metadata": {},
     "output_type": "execute_result"
    }
   ],
   "source": [
    "df_calls.head(10)"
   ]
  },
  {
   "cell_type": "code",
   "execution_count": 6,
   "metadata": {
    "ExecuteTime": {
     "end_time": "2022-10-16T15:02:54.736871Z",
     "start_time": "2022-10-16T15:02:54.716878Z"
    }
   },
   "outputs": [
    {
     "data": {
      "text/html": [
       "<div>\n",
       "<style scoped>\n",
       "    .dataframe tbody tr th:only-of-type {\n",
       "        vertical-align: middle;\n",
       "    }\n",
       "\n",
       "    .dataframe tbody tr th {\n",
       "        vertical-align: top;\n",
       "    }\n",
       "\n",
       "    .dataframe thead th {\n",
       "        text-align: right;\n",
       "    }\n",
       "</style>\n",
       "<table border=\"1\" class=\"dataframe\">\n",
       "  <thead>\n",
       "    <tr style=\"text-align: right;\">\n",
       "      <th></th>\n",
       "      <th>messages_included</th>\n",
       "      <th>mb_per_month_included</th>\n",
       "      <th>minutes_included</th>\n",
       "      <th>rub_monthly_fee</th>\n",
       "      <th>rub_per_gb</th>\n",
       "      <th>rub_per_message</th>\n",
       "      <th>rub_per_minute</th>\n",
       "      <th>tariff_name</th>\n",
       "    </tr>\n",
       "  </thead>\n",
       "  <tbody>\n",
       "    <tr>\n",
       "      <th>0</th>\n",
       "      <td>50</td>\n",
       "      <td>15360</td>\n",
       "      <td>500</td>\n",
       "      <td>550</td>\n",
       "      <td>200</td>\n",
       "      <td>3</td>\n",
       "      <td>3</td>\n",
       "      <td>smart</td>\n",
       "    </tr>\n",
       "    <tr>\n",
       "      <th>1</th>\n",
       "      <td>1000</td>\n",
       "      <td>30720</td>\n",
       "      <td>3000</td>\n",
       "      <td>1950</td>\n",
       "      <td>150</td>\n",
       "      <td>1</td>\n",
       "      <td>1</td>\n",
       "      <td>ultra</td>\n",
       "    </tr>\n",
       "  </tbody>\n",
       "</table>\n",
       "</div>"
      ],
      "text/plain": [
       "   messages_included  mb_per_month_included  minutes_included  \\\n",
       "0                 50                  15360               500   \n",
       "1               1000                  30720              3000   \n",
       "\n",
       "   rub_monthly_fee  rub_per_gb  rub_per_message  rub_per_minute tariff_name  \n",
       "0              550         200                3               3       smart  \n",
       "1             1950         150                1               1       ultra  "
      ]
     },
     "execution_count": 6,
     "metadata": {},
     "output_type": "execute_result"
    }
   ],
   "source": [
    "df_tariffs.head()"
   ]
  },
  {
   "cell_type": "code",
   "execution_count": 7,
   "metadata": {
    "ExecuteTime": {
     "end_time": "2022-10-16T15:02:59.175958Z",
     "start_time": "2022-10-16T15:02:59.155024Z"
    }
   },
   "outputs": [
    {
     "data": {
      "text/html": [
       "<div>\n",
       "<style scoped>\n",
       "    .dataframe tbody tr th:only-of-type {\n",
       "        vertical-align: middle;\n",
       "    }\n",
       "\n",
       "    .dataframe tbody tr th {\n",
       "        vertical-align: top;\n",
       "    }\n",
       "\n",
       "    .dataframe thead th {\n",
       "        text-align: right;\n",
       "    }\n",
       "</style>\n",
       "<table border=\"1\" class=\"dataframe\">\n",
       "  <thead>\n",
       "    <tr style=\"text-align: right;\">\n",
       "      <th></th>\n",
       "      <th>id</th>\n",
       "      <th>message_date</th>\n",
       "      <th>user_id</th>\n",
       "    </tr>\n",
       "  </thead>\n",
       "  <tbody>\n",
       "    <tr>\n",
       "      <th>0</th>\n",
       "      <td>1000_0</td>\n",
       "      <td>2018-06-27</td>\n",
       "      <td>1000</td>\n",
       "    </tr>\n",
       "    <tr>\n",
       "      <th>1</th>\n",
       "      <td>1000_1</td>\n",
       "      <td>2018-10-08</td>\n",
       "      <td>1000</td>\n",
       "    </tr>\n",
       "    <tr>\n",
       "      <th>2</th>\n",
       "      <td>1000_2</td>\n",
       "      <td>2018-08-04</td>\n",
       "      <td>1000</td>\n",
       "    </tr>\n",
       "    <tr>\n",
       "      <th>3</th>\n",
       "      <td>1000_3</td>\n",
       "      <td>2018-06-16</td>\n",
       "      <td>1000</td>\n",
       "    </tr>\n",
       "    <tr>\n",
       "      <th>4</th>\n",
       "      <td>1000_4</td>\n",
       "      <td>2018-12-05</td>\n",
       "      <td>1000</td>\n",
       "    </tr>\n",
       "    <tr>\n",
       "      <th>5</th>\n",
       "      <td>1000_5</td>\n",
       "      <td>2018-06-20</td>\n",
       "      <td>1000</td>\n",
       "    </tr>\n",
       "    <tr>\n",
       "      <th>6</th>\n",
       "      <td>1000_6</td>\n",
       "      <td>2018-11-19</td>\n",
       "      <td>1000</td>\n",
       "    </tr>\n",
       "    <tr>\n",
       "      <th>7</th>\n",
       "      <td>1000_7</td>\n",
       "      <td>2018-10-29</td>\n",
       "      <td>1000</td>\n",
       "    </tr>\n",
       "    <tr>\n",
       "      <th>8</th>\n",
       "      <td>1000_8</td>\n",
       "      <td>2018-06-25</td>\n",
       "      <td>1000</td>\n",
       "    </tr>\n",
       "    <tr>\n",
       "      <th>9</th>\n",
       "      <td>1000_9</td>\n",
       "      <td>2018-12-18</td>\n",
       "      <td>1000</td>\n",
       "    </tr>\n",
       "  </tbody>\n",
       "</table>\n",
       "</div>"
      ],
      "text/plain": [
       "       id message_date  user_id\n",
       "0  1000_0   2018-06-27     1000\n",
       "1  1000_1   2018-10-08     1000\n",
       "2  1000_2   2018-08-04     1000\n",
       "3  1000_3   2018-06-16     1000\n",
       "4  1000_4   2018-12-05     1000\n",
       "5  1000_5   2018-06-20     1000\n",
       "6  1000_6   2018-11-19     1000\n",
       "7  1000_7   2018-10-29     1000\n",
       "8  1000_8   2018-06-25     1000\n",
       "9  1000_9   2018-12-18     1000"
      ]
     },
     "execution_count": 7,
     "metadata": {},
     "output_type": "execute_result"
    }
   ],
   "source": [
    "df_messages.head(10)"
   ]
  },
  {
   "cell_type": "code",
   "execution_count": 8,
   "metadata": {
    "ExecuteTime": {
     "end_time": "2022-10-16T15:03:02.507735Z",
     "start_time": "2022-10-16T15:03:02.490148Z"
    }
   },
   "outputs": [
    {
     "data": {
      "text/html": [
       "<div>\n",
       "<style scoped>\n",
       "    .dataframe tbody tr th:only-of-type {\n",
       "        vertical-align: middle;\n",
       "    }\n",
       "\n",
       "    .dataframe tbody tr th {\n",
       "        vertical-align: top;\n",
       "    }\n",
       "\n",
       "    .dataframe thead th {\n",
       "        text-align: right;\n",
       "    }\n",
       "</style>\n",
       "<table border=\"1\" class=\"dataframe\">\n",
       "  <thead>\n",
       "    <tr style=\"text-align: right;\">\n",
       "      <th></th>\n",
       "      <th>id</th>\n",
       "      <th>mb_used</th>\n",
       "      <th>session_date</th>\n",
       "      <th>user_id</th>\n",
       "    </tr>\n",
       "  </thead>\n",
       "  <tbody>\n",
       "    <tr>\n",
       "      <th>0</th>\n",
       "      <td>1000_0</td>\n",
       "      <td>112.95</td>\n",
       "      <td>2018-11-25</td>\n",
       "      <td>1000</td>\n",
       "    </tr>\n",
       "    <tr>\n",
       "      <th>1</th>\n",
       "      <td>1000_1</td>\n",
       "      <td>1052.81</td>\n",
       "      <td>2018-09-07</td>\n",
       "      <td>1000</td>\n",
       "    </tr>\n",
       "    <tr>\n",
       "      <th>2</th>\n",
       "      <td>1000_2</td>\n",
       "      <td>1197.26</td>\n",
       "      <td>2018-06-25</td>\n",
       "      <td>1000</td>\n",
       "    </tr>\n",
       "    <tr>\n",
       "      <th>3</th>\n",
       "      <td>1000_3</td>\n",
       "      <td>550.27</td>\n",
       "      <td>2018-08-22</td>\n",
       "      <td>1000</td>\n",
       "    </tr>\n",
       "    <tr>\n",
       "      <th>4</th>\n",
       "      <td>1000_4</td>\n",
       "      <td>302.56</td>\n",
       "      <td>2018-09-24</td>\n",
       "      <td>1000</td>\n",
       "    </tr>\n",
       "    <tr>\n",
       "      <th>5</th>\n",
       "      <td>1000_5</td>\n",
       "      <td>399.97</td>\n",
       "      <td>2018-10-02</td>\n",
       "      <td>1000</td>\n",
       "    </tr>\n",
       "    <tr>\n",
       "      <th>6</th>\n",
       "      <td>1000_6</td>\n",
       "      <td>540.08</td>\n",
       "      <td>2018-09-07</td>\n",
       "      <td>1000</td>\n",
       "    </tr>\n",
       "    <tr>\n",
       "      <th>7</th>\n",
       "      <td>1000_7</td>\n",
       "      <td>415.70</td>\n",
       "      <td>2018-07-11</td>\n",
       "      <td>1000</td>\n",
       "    </tr>\n",
       "    <tr>\n",
       "      <th>8</th>\n",
       "      <td>1000_8</td>\n",
       "      <td>505.40</td>\n",
       "      <td>2018-10-08</td>\n",
       "      <td>1000</td>\n",
       "    </tr>\n",
       "    <tr>\n",
       "      <th>9</th>\n",
       "      <td>1000_9</td>\n",
       "      <td>345.54</td>\n",
       "      <td>2018-09-03</td>\n",
       "      <td>1000</td>\n",
       "    </tr>\n",
       "  </tbody>\n",
       "</table>\n",
       "</div>"
      ],
      "text/plain": [
       "       id  mb_used session_date  user_id\n",
       "0  1000_0   112.95   2018-11-25     1000\n",
       "1  1000_1  1052.81   2018-09-07     1000\n",
       "2  1000_2  1197.26   2018-06-25     1000\n",
       "3  1000_3   550.27   2018-08-22     1000\n",
       "4  1000_4   302.56   2018-09-24     1000\n",
       "5  1000_5   399.97   2018-10-02     1000\n",
       "6  1000_6   540.08   2018-09-07     1000\n",
       "7  1000_7   415.70   2018-07-11     1000\n",
       "8  1000_8   505.40   2018-10-08     1000\n",
       "9  1000_9   345.54   2018-09-03     1000"
      ]
     },
     "execution_count": 8,
     "metadata": {},
     "output_type": "execute_result"
    }
   ],
   "source": [
    "df_internet.head(10)"
   ]
  },
  {
   "cell_type": "markdown",
   "metadata": {},
   "source": [
    "### Шаг 1. Выводы:\n",
    "\n",
    "- Теперь ясно почему `id` распознается, как строка: по сути это составной id из `user_id` и номера записи, которая к нему относится. Формально, user_id в данной связке избыточен, можно его убрать. Пока нет уверенности, что это необходимо, но, если будет нужно, можно будет разбить. Это касается всех таблиц.\n",
    "- Безымянное поле по первым данным дублирует id самого датафрейма. Нужно это проверить, если подтвердится - удалить.\n",
    "- Бросается в глаза нулевая продолжительность звонков. Скорее всего речь про звонки, когда человек на звонок не ответил. Либо это был входящий звонок и он не тарифицировался. Задержимся на на первой гипотизе\n",
    "- Непонятных пропусков в данных нет (кроме churn_date)"
   ]
  },
  {
   "cell_type": "markdown",
   "metadata": {},
   "source": [
    "### Шаг 2. Подготовьте данные (предобработка данных)"
   ]
  },
  {
   "cell_type": "markdown",
   "metadata": {},
   "source": [
    "\n",
    "#### Тех.задание:  \n",
    "\n",
    "Приведите данные к нужным типам;  \n",
    "\n",
    "Найдите и исправьте ошибки в данных, если они есть.  \n",
    "\n",
    "Поясните, какие ошибки вы нашли и как их исправили. В данных вы найдёте звонки с нулевой продолжительностью. Это не ошибка: нулями обозначены пропущенные звонки, поэтому их не нужно удалять.  \n",
    "\n",
    "Посчитайте для каждого пользователя:  \n",
    "\n",
    "количество сделанных звонков и израсходованных минут разговора по месяцам;  \n",
    "\n",
    "количество отправленных сообщений по месяцам;  \n",
    "\n",
    "объем израсходованного интернет-трафика по месяцам;  \n",
    "\n",
    "помесячную выручку с каждого пользователя (вычтите бесплатный лимит из суммарного количества звонков, сообщений и интернет-трафика; остаток умножьте на значение из тарифного плана; прибавьте абонентскую плату, соответствующую тарифному плану)."
   ]
  },
  {
   "cell_type": "markdown",
   "metadata": {},
   "source": [
    "#### 2.1. Cперва приведем данные к нужному виду. "
   ]
  },
  {
   "cell_type": "code",
   "execution_count": 9,
   "metadata": {
    "ExecuteTime": {
     "end_time": "2022-10-16T15:03:39.217184Z",
     "start_time": "2022-10-16T15:03:39.134937Z"
    }
   },
   "outputs": [],
   "source": [
    "# Переведем все признаки с датами в формат DateTime для более удобной манипуляции в дальнейшем\n",
    "df_users['churn_date'] = pd.to_datetime(\n",
    "    df_users['churn_date'], format='%Y-%m-%d')\n",
    "df_users['reg_date'] = pd.to_datetime(df_users['reg_date'], format='%Y-%m-%d')\n",
    "df_internet['session_date'] = pd.to_datetime(\n",
    "    df_internet['session_date'], format='%Y-%m-%d')\n",
    "df_calls['call_date'] = pd.to_datetime(\n",
    "    df_calls['call_date'], format='%Y-%m-%d')\n",
    "df_messages['message_date'] = pd.to_datetime(\n",
    "    df_messages['message_date'], format='%Y-%m-%d')"
   ]
  },
  {
   "cell_type": "code",
   "execution_count": 10,
   "metadata": {
    "ExecuteTime": {
     "end_time": "2022-10-16T15:04:36.979616Z",
     "start_time": "2022-10-16T15:04:36.864373Z"
    }
   },
   "outputs": [
    {
     "name": "stdout",
     "output_type": "stream",
     "text": [
      "0\n",
      "\n",
      "0\n",
      "\n",
      "0\n",
      "\n",
      "0\n",
      "\n",
      "0\n",
      "\n"
     ]
    }
   ],
   "source": [
    "# 2.2. Проверим на наличие дубликатов по всем датафреймам:\n",
    "for df in df_list:\n",
    "    print(df.duplicated().sum())\n",
    "    print()"
   ]
  },
  {
   "cell_type": "code",
   "execution_count": 11,
   "metadata": {
    "ExecuteTime": {
     "end_time": "2022-10-16T15:04:42.118944Z",
     "start_time": "2022-10-16T15:04:42.105860Z"
    }
   },
   "outputs": [],
   "source": [
    "# 2.3. Обработаем продолжительность звонков, помня, что по тарифам округление идет в большую сторону:\n",
    "df_calls['duration'] = df_calls['duration'].apply(np.ceil)"
   ]
  },
  {
   "cell_type": "markdown",
   "metadata": {},
   "source": [
    "#### Шаг 2.4. Подготовка дополнительных данных (создание новых признаков)\n",
    "Добавим в таблицу признаки, которые понадобятся нам в дальнейшем\n",
    "- количество сделанных звонков и израсходованных минут разговора по месяцам;\n",
    "- количество отправленных сообщений по месяцам;\n",
    "- объем израсходованного интернет-трафика по месяцам;\n",
    "- помесячную выручку с каждого пользователя"
   ]
  },
  {
   "cell_type": "markdown",
   "metadata": {},
   "source": [
    "#### 2.4.1.Количество сделанных звонков и израсходованных минут по месяцам"
   ]
  },
  {
   "cell_type": "code",
   "execution_count": 12,
   "metadata": {
    "ExecuteTime": {
     "end_time": "2022-10-16T15:05:43.416254Z",
     "start_time": "2022-10-16T15:05:43.338664Z"
    }
   },
   "outputs": [
    {
     "data": {
      "text/html": [
       "<div>\n",
       "<style scoped>\n",
       "    .dataframe tbody tr th:only-of-type {\n",
       "        vertical-align: middle;\n",
       "    }\n",
       "\n",
       "    .dataframe tbody tr th {\n",
       "        vertical-align: top;\n",
       "    }\n",
       "\n",
       "    .dataframe thead th {\n",
       "        text-align: right;\n",
       "    }\n",
       "</style>\n",
       "<table border=\"1\" class=\"dataframe\">\n",
       "  <thead>\n",
       "    <tr style=\"text-align: right;\">\n",
       "      <th></th>\n",
       "      <th></th>\n",
       "      <th>month_call_duration</th>\n",
       "      <th>month_call_count</th>\n",
       "    </tr>\n",
       "    <tr>\n",
       "      <th>user_id</th>\n",
       "      <th>month</th>\n",
       "      <th></th>\n",
       "      <th></th>\n",
       "    </tr>\n",
       "  </thead>\n",
       "  <tbody>\n",
       "    <tr>\n",
       "      <th rowspan=\"5\" valign=\"top\">1000</th>\n",
       "      <th>2018-05-01</th>\n",
       "      <td>159.0</td>\n",
       "      <td>22</td>\n",
       "    </tr>\n",
       "    <tr>\n",
       "      <th>2018-06-01</th>\n",
       "      <td>172.0</td>\n",
       "      <td>43</td>\n",
       "    </tr>\n",
       "    <tr>\n",
       "      <th>2018-07-01</th>\n",
       "      <td>340.0</td>\n",
       "      <td>47</td>\n",
       "    </tr>\n",
       "    <tr>\n",
       "      <th>2018-08-01</th>\n",
       "      <td>408.0</td>\n",
       "      <td>52</td>\n",
       "    </tr>\n",
       "    <tr>\n",
       "      <th>2018-09-01</th>\n",
       "      <td>466.0</td>\n",
       "      <td>58</td>\n",
       "    </tr>\n",
       "    <tr>\n",
       "      <th>...</th>\n",
       "      <th>...</th>\n",
       "      <td>...</td>\n",
       "      <td>...</td>\n",
       "    </tr>\n",
       "    <tr>\n",
       "      <th>1498</th>\n",
       "      <th>2018-10-01</th>\n",
       "      <td>247.0</td>\n",
       "      <td>41</td>\n",
       "    </tr>\n",
       "    <tr>\n",
       "      <th rowspan=\"4\" valign=\"top\">1499</th>\n",
       "      <th>2018-09-01</th>\n",
       "      <td>70.0</td>\n",
       "      <td>9</td>\n",
       "    </tr>\n",
       "    <tr>\n",
       "      <th>2018-10-01</th>\n",
       "      <td>449.0</td>\n",
       "      <td>68</td>\n",
       "    </tr>\n",
       "    <tr>\n",
       "      <th>2018-11-01</th>\n",
       "      <td>612.0</td>\n",
       "      <td>74</td>\n",
       "    </tr>\n",
       "    <tr>\n",
       "      <th>2018-12-01</th>\n",
       "      <td>492.0</td>\n",
       "      <td>69</td>\n",
       "    </tr>\n",
       "  </tbody>\n",
       "</table>\n",
       "<p>3174 rows × 2 columns</p>\n",
       "</div>"
      ],
      "text/plain": [
       "                    month_call_duration  month_call_count\n",
       "user_id month                                            \n",
       "1000    2018-05-01                159.0                22\n",
       "        2018-06-01                172.0                43\n",
       "        2018-07-01                340.0                47\n",
       "        2018-08-01                408.0                52\n",
       "        2018-09-01                466.0                58\n",
       "...                                 ...               ...\n",
       "1498    2018-10-01                247.0                41\n",
       "1499    2018-09-01                 70.0                 9\n",
       "        2018-10-01                449.0                68\n",
       "        2018-11-01                612.0                74\n",
       "        2018-12-01                492.0                69\n",
       "\n",
       "[3174 rows x 2 columns]"
      ]
     },
     "execution_count": 12,
     "metadata": {},
     "output_type": "execute_result"
    }
   ],
   "source": [
    "# добавим признак \"месяц\" в df_calls\n",
    "# и сделаем сводную таблицу продолжительности и кол-во разговоров по месяцам (учитывая года):\n",
    "df_calls['month'] = df_calls['call_date'].astype('datetime64[M]')\n",
    "df_calls_month = df_calls.pivot_table(index=['user_id', 'month'], values=[\n",
    "                                      \"duration\"], aggfunc=['sum', 'count'])\n",
    "df_calls_month.columns = ['month_call_duration', 'month_call_count']\n",
    "df_calls_month"
   ]
  },
  {
   "cell_type": "markdown",
   "metadata": {},
   "source": [
    "#### 2.4.2. Количество отправленных сообщений по месяцам"
   ]
  },
  {
   "cell_type": "code",
   "execution_count": 13,
   "metadata": {
    "ExecuteTime": {
     "end_time": "2022-10-16T15:06:13.276515Z",
     "start_time": "2022-10-16T15:06:13.233505Z"
    }
   },
   "outputs": [
    {
     "data": {
      "text/html": [
       "<div>\n",
       "<style scoped>\n",
       "    .dataframe tbody tr th:only-of-type {\n",
       "        vertical-align: middle;\n",
       "    }\n",
       "\n",
       "    .dataframe tbody tr th {\n",
       "        vertical-align: top;\n",
       "    }\n",
       "\n",
       "    .dataframe thead th {\n",
       "        text-align: right;\n",
       "    }\n",
       "</style>\n",
       "<table border=\"1\" class=\"dataframe\">\n",
       "  <thead>\n",
       "    <tr style=\"text-align: right;\">\n",
       "      <th></th>\n",
       "      <th></th>\n",
       "      <th>month_message_count</th>\n",
       "    </tr>\n",
       "    <tr>\n",
       "      <th>user_id</th>\n",
       "      <th>month</th>\n",
       "      <th></th>\n",
       "    </tr>\n",
       "  </thead>\n",
       "  <tbody>\n",
       "    <tr>\n",
       "      <th rowspan=\"5\" valign=\"top\">1000</th>\n",
       "      <th>2018-05-01</th>\n",
       "      <td>22</td>\n",
       "    </tr>\n",
       "    <tr>\n",
       "      <th>2018-06-01</th>\n",
       "      <td>60</td>\n",
       "    </tr>\n",
       "    <tr>\n",
       "      <th>2018-07-01</th>\n",
       "      <td>75</td>\n",
       "    </tr>\n",
       "    <tr>\n",
       "      <th>2018-08-01</th>\n",
       "      <td>81</td>\n",
       "    </tr>\n",
       "    <tr>\n",
       "      <th>2018-09-01</th>\n",
       "      <td>57</td>\n",
       "    </tr>\n",
       "    <tr>\n",
       "      <th>...</th>\n",
       "      <th>...</th>\n",
       "      <td>...</td>\n",
       "    </tr>\n",
       "    <tr>\n",
       "      <th>1498</th>\n",
       "      <th>2018-10-01</th>\n",
       "      <td>42</td>\n",
       "    </tr>\n",
       "    <tr>\n",
       "      <th rowspan=\"4\" valign=\"top\">1499</th>\n",
       "      <th>2018-09-01</th>\n",
       "      <td>11</td>\n",
       "    </tr>\n",
       "    <tr>\n",
       "      <th>2018-10-01</th>\n",
       "      <td>48</td>\n",
       "    </tr>\n",
       "    <tr>\n",
       "      <th>2018-11-01</th>\n",
       "      <td>59</td>\n",
       "    </tr>\n",
       "    <tr>\n",
       "      <th>2018-12-01</th>\n",
       "      <td>66</td>\n",
       "    </tr>\n",
       "  </tbody>\n",
       "</table>\n",
       "<p>2717 rows × 1 columns</p>\n",
       "</div>"
      ],
      "text/plain": [
       "                    month_message_count\n",
       "user_id month                          \n",
       "1000    2018-05-01                   22\n",
       "        2018-06-01                   60\n",
       "        2018-07-01                   75\n",
       "        2018-08-01                   81\n",
       "        2018-09-01                   57\n",
       "...                                 ...\n",
       "1498    2018-10-01                   42\n",
       "1499    2018-09-01                   11\n",
       "        2018-10-01                   48\n",
       "        2018-11-01                   59\n",
       "        2018-12-01                   66\n",
       "\n",
       "[2717 rows x 1 columns]"
      ]
     },
     "execution_count": 13,
     "metadata": {},
     "output_type": "execute_result"
    }
   ],
   "source": [
    "# Тоже самое проделаем для \"сообщений\" в df_messages:\n",
    "df_messages['month'] = df_messages['message_date'].astype('datetime64[M]')\n",
    "df_messages_month = df_messages.pivot_table(index=['user_id', 'month'], values=[\n",
    "                                            \"message_date\"], aggfunc=['count'])\n",
    "df_messages_month.columns = ['month_message_count']\n",
    "df_messages_month"
   ]
  },
  {
   "cell_type": "markdown",
   "metadata": {},
   "source": [
    "#### 2.4.3. Кол-во израсходованного интернет-трафика по месяцам"
   ]
  },
  {
   "cell_type": "code",
   "execution_count": 14,
   "metadata": {
    "ExecuteTime": {
     "end_time": "2022-10-16T15:06:30.558637Z",
     "start_time": "2022-10-16T15:06:30.511329Z"
    }
   },
   "outputs": [
    {
     "data": {
      "text/html": [
       "<div>\n",
       "<style scoped>\n",
       "    .dataframe tbody tr th:only-of-type {\n",
       "        vertical-align: middle;\n",
       "    }\n",
       "\n",
       "    .dataframe tbody tr th {\n",
       "        vertical-align: top;\n",
       "    }\n",
       "\n",
       "    .dataframe thead th {\n",
       "        text-align: right;\n",
       "    }\n",
       "</style>\n",
       "<table border=\"1\" class=\"dataframe\">\n",
       "  <thead>\n",
       "    <tr style=\"text-align: right;\">\n",
       "      <th></th>\n",
       "      <th></th>\n",
       "      <th>month_mb_used</th>\n",
       "    </tr>\n",
       "    <tr>\n",
       "      <th>user_id</th>\n",
       "      <th>month</th>\n",
       "      <th></th>\n",
       "    </tr>\n",
       "  </thead>\n",
       "  <tbody>\n",
       "    <tr>\n",
       "      <th rowspan=\"5\" valign=\"top\">1000</th>\n",
       "      <th>2018-05-01</th>\n",
       "      <td>2253.49</td>\n",
       "    </tr>\n",
       "    <tr>\n",
       "      <th>2018-06-01</th>\n",
       "      <td>23233.77</td>\n",
       "    </tr>\n",
       "    <tr>\n",
       "      <th>2018-07-01</th>\n",
       "      <td>14003.64</td>\n",
       "    </tr>\n",
       "    <tr>\n",
       "      <th>2018-08-01</th>\n",
       "      <td>14055.93</td>\n",
       "    </tr>\n",
       "    <tr>\n",
       "      <th>2018-09-01</th>\n",
       "      <td>14568.91</td>\n",
       "    </tr>\n",
       "    <tr>\n",
       "      <th>...</th>\n",
       "      <th>...</th>\n",
       "      <td>...</td>\n",
       "    </tr>\n",
       "    <tr>\n",
       "      <th>1498</th>\n",
       "      <th>2018-10-01</th>\n",
       "      <td>20579.36</td>\n",
       "    </tr>\n",
       "    <tr>\n",
       "      <th rowspan=\"4\" valign=\"top\">1499</th>\n",
       "      <th>2018-09-01</th>\n",
       "      <td>1845.75</td>\n",
       "    </tr>\n",
       "    <tr>\n",
       "      <th>2018-10-01</th>\n",
       "      <td>17788.51</td>\n",
       "    </tr>\n",
       "    <tr>\n",
       "      <th>2018-11-01</th>\n",
       "      <td>17963.31</td>\n",
       "    </tr>\n",
       "    <tr>\n",
       "      <th>2018-12-01</th>\n",
       "      <td>13055.58</td>\n",
       "    </tr>\n",
       "  </tbody>\n",
       "</table>\n",
       "<p>3203 rows × 1 columns</p>\n",
       "</div>"
      ],
      "text/plain": [
       "                    month_mb_used\n",
       "user_id month                    \n",
       "1000    2018-05-01        2253.49\n",
       "        2018-06-01       23233.77\n",
       "        2018-07-01       14003.64\n",
       "        2018-08-01       14055.93\n",
       "        2018-09-01       14568.91\n",
       "...                           ...\n",
       "1498    2018-10-01       20579.36\n",
       "1499    2018-09-01        1845.75\n",
       "        2018-10-01       17788.51\n",
       "        2018-11-01       17963.31\n",
       "        2018-12-01       13055.58\n",
       "\n",
       "[3203 rows x 1 columns]"
      ]
     },
     "execution_count": 14,
     "metadata": {},
     "output_type": "execute_result"
    }
   ],
   "source": [
    "# Подготовим сводную таблицу для объема израсходованного интернет-трафика по месяцам\n",
    "df_internet['month'] = df_internet['session_date'].astype('datetime64[M]')\n",
    "df_internet_month = df_internet.pivot_table(\n",
    "    index=['user_id', 'month'], values=[\"mb_used\"], aggfunc=['sum'])\n",
    "df_internet_month.columns = ['month_mb_used']\n",
    "df_internet_month"
   ]
  },
  {
   "cell_type": "markdown",
   "metadata": {
    "ExecuteTime": {
     "end_time": "2022-04-18T13:52:32.073306Z",
     "start_time": "2022-04-18T13:52:32.069793Z"
    }
   },
   "source": [
    "<div class=\"alert alert-info\"> <b> Комментарий студента #4:</b> Сделаем правильное округление интернет трафика: </div>"
   ]
  },
  {
   "cell_type": "code",
   "execution_count": 15,
   "metadata": {
    "ExecuteTime": {
     "end_time": "2022-10-16T15:06:49.567478Z",
     "start_time": "2022-10-16T15:06:49.540953Z"
    }
   },
   "outputs": [
    {
     "data": {
      "text/html": [
       "<div>\n",
       "<style scoped>\n",
       "    .dataframe tbody tr th:only-of-type {\n",
       "        vertical-align: middle;\n",
       "    }\n",
       "\n",
       "    .dataframe tbody tr th {\n",
       "        vertical-align: top;\n",
       "    }\n",
       "\n",
       "    .dataframe thead th {\n",
       "        text-align: right;\n",
       "    }\n",
       "</style>\n",
       "<table border=\"1\" class=\"dataframe\">\n",
       "  <thead>\n",
       "    <tr style=\"text-align: right;\">\n",
       "      <th></th>\n",
       "      <th></th>\n",
       "      <th>month_mb_used</th>\n",
       "      <th>month_gb_rounded</th>\n",
       "    </tr>\n",
       "    <tr>\n",
       "      <th>user_id</th>\n",
       "      <th>month</th>\n",
       "      <th></th>\n",
       "      <th></th>\n",
       "    </tr>\n",
       "  </thead>\n",
       "  <tbody>\n",
       "    <tr>\n",
       "      <th rowspan=\"5\" valign=\"top\">1000</th>\n",
       "      <th>2018-05-01</th>\n",
       "      <td>2253.49</td>\n",
       "      <td>3</td>\n",
       "    </tr>\n",
       "    <tr>\n",
       "      <th>2018-06-01</th>\n",
       "      <td>23233.77</td>\n",
       "      <td>23</td>\n",
       "    </tr>\n",
       "    <tr>\n",
       "      <th>2018-07-01</th>\n",
       "      <td>14003.64</td>\n",
       "      <td>14</td>\n",
       "    </tr>\n",
       "    <tr>\n",
       "      <th>2018-08-01</th>\n",
       "      <td>14055.93</td>\n",
       "      <td>14</td>\n",
       "    </tr>\n",
       "    <tr>\n",
       "      <th>2018-09-01</th>\n",
       "      <td>14568.91</td>\n",
       "      <td>15</td>\n",
       "    </tr>\n",
       "    <tr>\n",
       "      <th>...</th>\n",
       "      <th>...</th>\n",
       "      <td>...</td>\n",
       "      <td>...</td>\n",
       "    </tr>\n",
       "    <tr>\n",
       "      <th>1498</th>\n",
       "      <th>2018-10-01</th>\n",
       "      <td>20579.36</td>\n",
       "      <td>21</td>\n",
       "    </tr>\n",
       "    <tr>\n",
       "      <th rowspan=\"4\" valign=\"top\">1499</th>\n",
       "      <th>2018-09-01</th>\n",
       "      <td>1845.75</td>\n",
       "      <td>2</td>\n",
       "    </tr>\n",
       "    <tr>\n",
       "      <th>2018-10-01</th>\n",
       "      <td>17788.51</td>\n",
       "      <td>18</td>\n",
       "    </tr>\n",
       "    <tr>\n",
       "      <th>2018-11-01</th>\n",
       "      <td>17963.31</td>\n",
       "      <td>18</td>\n",
       "    </tr>\n",
       "    <tr>\n",
       "      <th>2018-12-01</th>\n",
       "      <td>13055.58</td>\n",
       "      <td>13</td>\n",
       "    </tr>\n",
       "  </tbody>\n",
       "</table>\n",
       "<p>3203 rows × 2 columns</p>\n",
       "</div>"
      ],
      "text/plain": [
       "                    month_mb_used  month_gb_rounded\n",
       "user_id month                                      \n",
       "1000    2018-05-01        2253.49                 3\n",
       "        2018-06-01       23233.77                23\n",
       "        2018-07-01       14003.64                14\n",
       "        2018-08-01       14055.93                14\n",
       "        2018-09-01       14568.91                15\n",
       "...                           ...               ...\n",
       "1498    2018-10-01       20579.36                21\n",
       "1499    2018-09-01        1845.75                 2\n",
       "        2018-10-01       17788.51                18\n",
       "        2018-11-01       17963.31                18\n",
       "        2018-12-01       13055.58                13\n",
       "\n",
       "[3203 rows x 2 columns]"
      ]
     },
     "execution_count": 15,
     "metadata": {},
     "output_type": "execute_result"
    }
   ],
   "source": [
    "# добавим признак с  округленным кол-вом интернет трафика (до целых гб):\n",
    "df_internet_month['month_gb_rounded'] = (\n",
    "    df_internet_month['month_mb_used']/1024).apply(np.ceil).astype(int)\n",
    "df_internet_month"
   ]
  },
  {
   "cell_type": "markdown",
   "metadata": {},
   "source": [
    "#### 2.4.4.Расчитаем месячную выручку с каждого пользователя"
   ]
  },
  {
   "cell_type": "code",
   "execution_count": 16,
   "metadata": {
    "ExecuteTime": {
     "end_time": "2022-10-16T15:06:59.378997Z",
     "start_time": "2022-10-16T15:06:59.317520Z"
    },
    "scrolled": true
   },
   "outputs": [
    {
     "data": {
      "text/html": [
       "<div>\n",
       "<style scoped>\n",
       "    .dataframe tbody tr th:only-of-type {\n",
       "        vertical-align: middle;\n",
       "    }\n",
       "\n",
       "    .dataframe tbody tr th {\n",
       "        vertical-align: top;\n",
       "    }\n",
       "\n",
       "    .dataframe thead th {\n",
       "        text-align: right;\n",
       "    }\n",
       "</style>\n",
       "<table border=\"1\" class=\"dataframe\">\n",
       "  <thead>\n",
       "    <tr style=\"text-align: right;\">\n",
       "      <th></th>\n",
       "      <th>user_id</th>\n",
       "      <th>month</th>\n",
       "      <th>month_call_count</th>\n",
       "      <th>month_call_duration</th>\n",
       "      <th>month_gb_rounded</th>\n",
       "      <th>month_mb_used</th>\n",
       "      <th>month_message_count</th>\n",
       "      <th>tariff</th>\n",
       "      <th>city</th>\n",
       "    </tr>\n",
       "  </thead>\n",
       "  <tbody>\n",
       "    <tr>\n",
       "      <th>0</th>\n",
       "      <td>1000</td>\n",
       "      <td>2018-05-01</td>\n",
       "      <td>22.0</td>\n",
       "      <td>159.0</td>\n",
       "      <td>3.0</td>\n",
       "      <td>2253.49</td>\n",
       "      <td>22.0</td>\n",
       "      <td>ultra</td>\n",
       "      <td>Краснодар</td>\n",
       "    </tr>\n",
       "    <tr>\n",
       "      <th>1</th>\n",
       "      <td>1000</td>\n",
       "      <td>2018-06-01</td>\n",
       "      <td>43.0</td>\n",
       "      <td>172.0</td>\n",
       "      <td>23.0</td>\n",
       "      <td>23233.77</td>\n",
       "      <td>60.0</td>\n",
       "      <td>ultra</td>\n",
       "      <td>Краснодар</td>\n",
       "    </tr>\n",
       "    <tr>\n",
       "      <th>2</th>\n",
       "      <td>1000</td>\n",
       "      <td>2018-07-01</td>\n",
       "      <td>47.0</td>\n",
       "      <td>340.0</td>\n",
       "      <td>14.0</td>\n",
       "      <td>14003.64</td>\n",
       "      <td>75.0</td>\n",
       "      <td>ultra</td>\n",
       "      <td>Краснодар</td>\n",
       "    </tr>\n",
       "    <tr>\n",
       "      <th>3</th>\n",
       "      <td>1000</td>\n",
       "      <td>2018-08-01</td>\n",
       "      <td>52.0</td>\n",
       "      <td>408.0</td>\n",
       "      <td>14.0</td>\n",
       "      <td>14055.93</td>\n",
       "      <td>81.0</td>\n",
       "      <td>ultra</td>\n",
       "      <td>Краснодар</td>\n",
       "    </tr>\n",
       "    <tr>\n",
       "      <th>4</th>\n",
       "      <td>1000</td>\n",
       "      <td>2018-09-01</td>\n",
       "      <td>58.0</td>\n",
       "      <td>466.0</td>\n",
       "      <td>15.0</td>\n",
       "      <td>14568.91</td>\n",
       "      <td>57.0</td>\n",
       "      <td>ultra</td>\n",
       "      <td>Краснодар</td>\n",
       "    </tr>\n",
       "    <tr>\n",
       "      <th>...</th>\n",
       "      <td>...</td>\n",
       "      <td>...</td>\n",
       "      <td>...</td>\n",
       "      <td>...</td>\n",
       "      <td>...</td>\n",
       "      <td>...</td>\n",
       "      <td>...</td>\n",
       "      <td>...</td>\n",
       "      <td>...</td>\n",
       "    </tr>\n",
       "    <tr>\n",
       "      <th>3209</th>\n",
       "      <td>1498</td>\n",
       "      <td>2018-10-01</td>\n",
       "      <td>41.0</td>\n",
       "      <td>247.0</td>\n",
       "      <td>21.0</td>\n",
       "      <td>20579.36</td>\n",
       "      <td>42.0</td>\n",
       "      <td>smart</td>\n",
       "      <td>Владикавказ</td>\n",
       "    </tr>\n",
       "    <tr>\n",
       "      <th>3210</th>\n",
       "      <td>1499</td>\n",
       "      <td>2018-09-01</td>\n",
       "      <td>9.0</td>\n",
       "      <td>70.0</td>\n",
       "      <td>2.0</td>\n",
       "      <td>1845.75</td>\n",
       "      <td>11.0</td>\n",
       "      <td>smart</td>\n",
       "      <td>Пермь</td>\n",
       "    </tr>\n",
       "    <tr>\n",
       "      <th>3211</th>\n",
       "      <td>1499</td>\n",
       "      <td>2018-10-01</td>\n",
       "      <td>68.0</td>\n",
       "      <td>449.0</td>\n",
       "      <td>18.0</td>\n",
       "      <td>17788.51</td>\n",
       "      <td>48.0</td>\n",
       "      <td>smart</td>\n",
       "      <td>Пермь</td>\n",
       "    </tr>\n",
       "    <tr>\n",
       "      <th>3212</th>\n",
       "      <td>1499</td>\n",
       "      <td>2018-11-01</td>\n",
       "      <td>74.0</td>\n",
       "      <td>612.0</td>\n",
       "      <td>18.0</td>\n",
       "      <td>17963.31</td>\n",
       "      <td>59.0</td>\n",
       "      <td>smart</td>\n",
       "      <td>Пермь</td>\n",
       "    </tr>\n",
       "    <tr>\n",
       "      <th>3213</th>\n",
       "      <td>1499</td>\n",
       "      <td>2018-12-01</td>\n",
       "      <td>69.0</td>\n",
       "      <td>492.0</td>\n",
       "      <td>13.0</td>\n",
       "      <td>13055.58</td>\n",
       "      <td>66.0</td>\n",
       "      <td>smart</td>\n",
       "      <td>Пермь</td>\n",
       "    </tr>\n",
       "  </tbody>\n",
       "</table>\n",
       "<p>3214 rows × 9 columns</p>\n",
       "</div>"
      ],
      "text/plain": [
       "      user_id      month  month_call_count  month_call_duration  \\\n",
       "0        1000 2018-05-01              22.0                159.0   \n",
       "1        1000 2018-06-01              43.0                172.0   \n",
       "2        1000 2018-07-01              47.0                340.0   \n",
       "3        1000 2018-08-01              52.0                408.0   \n",
       "4        1000 2018-09-01              58.0                466.0   \n",
       "...       ...        ...               ...                  ...   \n",
       "3209     1498 2018-10-01              41.0                247.0   \n",
       "3210     1499 2018-09-01               9.0                 70.0   \n",
       "3211     1499 2018-10-01              68.0                449.0   \n",
       "3212     1499 2018-11-01              74.0                612.0   \n",
       "3213     1499 2018-12-01              69.0                492.0   \n",
       "\n",
       "      month_gb_rounded  month_mb_used  month_message_count tariff         city  \n",
       "0                  3.0        2253.49                 22.0  ultra    Краснодар  \n",
       "1                 23.0       23233.77                 60.0  ultra    Краснодар  \n",
       "2                 14.0       14003.64                 75.0  ultra    Краснодар  \n",
       "3                 14.0       14055.93                 81.0  ultra    Краснодар  \n",
       "4                 15.0       14568.91                 57.0  ultra    Краснодар  \n",
       "...                ...            ...                  ...    ...          ...  \n",
       "3209              21.0       20579.36                 42.0  smart  Владикавказ  \n",
       "3210               2.0        1845.75                 11.0  smart        Пермь  \n",
       "3211              18.0       17788.51                 48.0  smart        Пермь  \n",
       "3212              18.0       17963.31                 59.0  smart        Пермь  \n",
       "3213              13.0       13055.58                 66.0  smart        Пермь  \n",
       "\n",
       "[3214 rows x 9 columns]"
      ]
     },
     "execution_count": 16,
     "metadata": {},
     "output_type": "execute_result"
    }
   ],
   "source": [
    "# Для этого сперва нужно объеденить данные из трех таблиц\n",
    "df_data = df_calls_month.combine_first(df_messages_month)\n",
    "df_data = df_data.combine_first(df_internet_month)\n",
    "\n",
    "# Добавим в итоговую таблицу признаки название тарифа и город\n",
    "df_data = df_data.reset_index(level='month')\n",
    "df_usage_total = df_data.merge(\n",
    "    df_users[['user_id', 'tariff', 'city']], on='user_id', how='left')\n",
    "\n",
    "df_usage_total"
   ]
  },
  {
   "cell_type": "markdown",
   "metadata": {},
   "source": [
    "#### 2.4.5. Посчитаем помесячную выручку и добавим в таблицу"
   ]
  },
  {
   "cell_type": "code",
   "execution_count": 18,
   "metadata": {
    "ExecuteTime": {
     "end_time": "2022-10-16T15:07:38.987157Z",
     "start_time": "2022-10-16T15:07:38.969279Z"
    }
   },
   "outputs": [],
   "source": [
    "# будем считать таким образом:\n",
    "# вычтем бесплатный лимит из суммарного количества звонков, сообщений и трафика;\n",
    "# остаток умножим на значение из тарифного плана;\n",
    "# прибавим абонентскую плату, соответствующую тарифному плану.\n",
    "\n",
    "def calculate_under_limit(row, current_tariff_data, row_filed_name, tariff_field_name):\n",
    "    \"\"\"\n",
    "    функция считает расход ресурсов сверх тарифного лимита\"\"\"\n",
    "\n",
    "    result = 0\n",
    "    if (row[row_filed_name] > current_tariff_data[tariff_field_name]):\n",
    "        result = row[row_filed_name] - current_tariff_data[tariff_field_name]\n",
    "\n",
    "    return result\n",
    "\n",
    "\n",
    "def calculate_proceeds(row):\n",
    "    tariff_index_dict = {'smart': 0, 'ultra': 1}\n",
    "    tariff_index = tariff_index_dict[row['tariff']]\n",
    "    current_tariff_data = df_tariffs.loc[tariff_index]\n",
    "\n",
    "    minutes_under_limit = calculate_under_limit(\n",
    "        row, current_tariff_data, 'month_call_duration', 'minutes_included')\n",
    "    mb_under_limit = calculate_under_limit(\n",
    "        row, current_tariff_data, 'month_mb_used', 'mb_per_month_included')\n",
    "    messages_under_limit = calculate_under_limit(\n",
    "        row, current_tariff_data, 'month_message_count', 'messages_included')\n",
    "\n",
    "# вычисляем сумму по ГБ\n",
    "    proceeds_by_traffic = mb_under_limit * \\\n",
    "        current_tariff_data['rub_per_gb']  # works\n",
    "    proceeds_by_traffic = int(\n",
    "        np.ceil(mb_under_limit / 1024) * current_tariff_data['rub_per_gb'])\n",
    "\n",
    "    #proceeds_by_traffic = month_gb_rounded * current_tariff_data['rub_per_gb']\n",
    "\n",
    "    result = (minutes_under_limit * current_tariff_data['rub_per_minute']\n",
    "              + messages_under_limit * current_tariff_data['rub_per_message']\n",
    "              + proceeds_by_traffic\n",
    "              + current_tariff_data['rub_monthly_fee'])\n",
    "\n",
    "    return result"
   ]
  },
  {
   "cell_type": "code",
   "execution_count": 19,
   "metadata": {
    "ExecuteTime": {
     "end_time": "2022-10-16T15:07:41.665700Z",
     "start_time": "2022-10-16T15:07:41.249158Z"
    }
   },
   "outputs": [
    {
     "data": {
      "text/html": [
       "<div>\n",
       "<style scoped>\n",
       "    .dataframe tbody tr th:only-of-type {\n",
       "        vertical-align: middle;\n",
       "    }\n",
       "\n",
       "    .dataframe tbody tr th {\n",
       "        vertical-align: top;\n",
       "    }\n",
       "\n",
       "    .dataframe thead th {\n",
       "        text-align: right;\n",
       "    }\n",
       "</style>\n",
       "<table border=\"1\" class=\"dataframe\">\n",
       "  <thead>\n",
       "    <tr style=\"text-align: right;\">\n",
       "      <th></th>\n",
       "      <th>user_id</th>\n",
       "      <th>month</th>\n",
       "      <th>month_call_count</th>\n",
       "      <th>month_call_duration</th>\n",
       "      <th>month_gb_rounded</th>\n",
       "      <th>month_mb_used</th>\n",
       "      <th>month_message_count</th>\n",
       "      <th>tariff</th>\n",
       "      <th>city</th>\n",
       "      <th>profit</th>\n",
       "    </tr>\n",
       "  </thead>\n",
       "  <tbody>\n",
       "    <tr>\n",
       "      <th>0</th>\n",
       "      <td>1000</td>\n",
       "      <td>2018-05-01</td>\n",
       "      <td>22.0</td>\n",
       "      <td>159.0</td>\n",
       "      <td>3.0</td>\n",
       "      <td>2253.49</td>\n",
       "      <td>22.0</td>\n",
       "      <td>ultra</td>\n",
       "      <td>Краснодар</td>\n",
       "      <td>1950.0</td>\n",
       "    </tr>\n",
       "    <tr>\n",
       "      <th>1</th>\n",
       "      <td>1000</td>\n",
       "      <td>2018-06-01</td>\n",
       "      <td>43.0</td>\n",
       "      <td>172.0</td>\n",
       "      <td>23.0</td>\n",
       "      <td>23233.77</td>\n",
       "      <td>60.0</td>\n",
       "      <td>ultra</td>\n",
       "      <td>Краснодар</td>\n",
       "      <td>1950.0</td>\n",
       "    </tr>\n",
       "    <tr>\n",
       "      <th>2</th>\n",
       "      <td>1000</td>\n",
       "      <td>2018-07-01</td>\n",
       "      <td>47.0</td>\n",
       "      <td>340.0</td>\n",
       "      <td>14.0</td>\n",
       "      <td>14003.64</td>\n",
       "      <td>75.0</td>\n",
       "      <td>ultra</td>\n",
       "      <td>Краснодар</td>\n",
       "      <td>1950.0</td>\n",
       "    </tr>\n",
       "    <tr>\n",
       "      <th>3</th>\n",
       "      <td>1000</td>\n",
       "      <td>2018-08-01</td>\n",
       "      <td>52.0</td>\n",
       "      <td>408.0</td>\n",
       "      <td>14.0</td>\n",
       "      <td>14055.93</td>\n",
       "      <td>81.0</td>\n",
       "      <td>ultra</td>\n",
       "      <td>Краснодар</td>\n",
       "      <td>1950.0</td>\n",
       "    </tr>\n",
       "    <tr>\n",
       "      <th>4</th>\n",
       "      <td>1000</td>\n",
       "      <td>2018-09-01</td>\n",
       "      <td>58.0</td>\n",
       "      <td>466.0</td>\n",
       "      <td>15.0</td>\n",
       "      <td>14568.91</td>\n",
       "      <td>57.0</td>\n",
       "      <td>ultra</td>\n",
       "      <td>Краснодар</td>\n",
       "      <td>1950.0</td>\n",
       "    </tr>\n",
       "    <tr>\n",
       "      <th>5</th>\n",
       "      <td>1000</td>\n",
       "      <td>2018-10-01</td>\n",
       "      <td>57.0</td>\n",
       "      <td>350.0</td>\n",
       "      <td>15.0</td>\n",
       "      <td>14702.49</td>\n",
       "      <td>73.0</td>\n",
       "      <td>ultra</td>\n",
       "      <td>Краснодар</td>\n",
       "      <td>1950.0</td>\n",
       "    </tr>\n",
       "    <tr>\n",
       "      <th>6</th>\n",
       "      <td>1000</td>\n",
       "      <td>2018-11-01</td>\n",
       "      <td>43.0</td>\n",
       "      <td>338.0</td>\n",
       "      <td>15.0</td>\n",
       "      <td>14756.47</td>\n",
       "      <td>58.0</td>\n",
       "      <td>ultra</td>\n",
       "      <td>Краснодар</td>\n",
       "      <td>1950.0</td>\n",
       "    </tr>\n",
       "    <tr>\n",
       "      <th>7</th>\n",
       "      <td>1000</td>\n",
       "      <td>2018-12-01</td>\n",
       "      <td>46.0</td>\n",
       "      <td>333.0</td>\n",
       "      <td>10.0</td>\n",
       "      <td>9817.61</td>\n",
       "      <td>70.0</td>\n",
       "      <td>ultra</td>\n",
       "      <td>Краснодар</td>\n",
       "      <td>1950.0</td>\n",
       "    </tr>\n",
       "    <tr>\n",
       "      <th>8</th>\n",
       "      <td>1001</td>\n",
       "      <td>2018-11-01</td>\n",
       "      <td>59.0</td>\n",
       "      <td>430.0</td>\n",
       "      <td>18.0</td>\n",
       "      <td>18429.34</td>\n",
       "      <td>NaN</td>\n",
       "      <td>smart</td>\n",
       "      <td>Москва</td>\n",
       "      <td>1150.0</td>\n",
       "    </tr>\n",
       "    <tr>\n",
       "      <th>9</th>\n",
       "      <td>1001</td>\n",
       "      <td>2018-12-01</td>\n",
       "      <td>63.0</td>\n",
       "      <td>414.0</td>\n",
       "      <td>14.0</td>\n",
       "      <td>14036.66</td>\n",
       "      <td>NaN</td>\n",
       "      <td>smart</td>\n",
       "      <td>Москва</td>\n",
       "      <td>550.0</td>\n",
       "    </tr>\n",
       "    <tr>\n",
       "      <th>10</th>\n",
       "      <td>1002</td>\n",
       "      <td>2018-06-01</td>\n",
       "      <td>15.0</td>\n",
       "      <td>117.0</td>\n",
       "      <td>11.0</td>\n",
       "      <td>10856.82</td>\n",
       "      <td>4.0</td>\n",
       "      <td>smart</td>\n",
       "      <td>Стерлитамак</td>\n",
       "      <td>550.0</td>\n",
       "    </tr>\n",
       "    <tr>\n",
       "      <th>11</th>\n",
       "      <td>1002</td>\n",
       "      <td>2018-07-01</td>\n",
       "      <td>26.0</td>\n",
       "      <td>214.0</td>\n",
       "      <td>18.0</td>\n",
       "      <td>17580.10</td>\n",
       "      <td>11.0</td>\n",
       "      <td>smart</td>\n",
       "      <td>Стерлитамак</td>\n",
       "      <td>1150.0</td>\n",
       "    </tr>\n",
       "    <tr>\n",
       "      <th>12</th>\n",
       "      <td>1002</td>\n",
       "      <td>2018-08-01</td>\n",
       "      <td>42.0</td>\n",
       "      <td>289.0</td>\n",
       "      <td>20.0</td>\n",
       "      <td>20319.26</td>\n",
       "      <td>13.0</td>\n",
       "      <td>smart</td>\n",
       "      <td>Стерлитамак</td>\n",
       "      <td>1550.0</td>\n",
       "    </tr>\n",
       "    <tr>\n",
       "      <th>13</th>\n",
       "      <td>1002</td>\n",
       "      <td>2018-09-01</td>\n",
       "      <td>36.0</td>\n",
       "      <td>206.0</td>\n",
       "      <td>17.0</td>\n",
       "      <td>16691.08</td>\n",
       "      <td>4.0</td>\n",
       "      <td>smart</td>\n",
       "      <td>Стерлитамак</td>\n",
       "      <td>950.0</td>\n",
       "    </tr>\n",
       "    <tr>\n",
       "      <th>14</th>\n",
       "      <td>1002</td>\n",
       "      <td>2018-10-01</td>\n",
       "      <td>33.0</td>\n",
       "      <td>212.0</td>\n",
       "      <td>14.0</td>\n",
       "      <td>13888.25</td>\n",
       "      <td>10.0</td>\n",
       "      <td>smart</td>\n",
       "      <td>Стерлитамак</td>\n",
       "      <td>550.0</td>\n",
       "    </tr>\n",
       "  </tbody>\n",
       "</table>\n",
       "</div>"
      ],
      "text/plain": [
       "    user_id      month  month_call_count  month_call_duration  \\\n",
       "0      1000 2018-05-01              22.0                159.0   \n",
       "1      1000 2018-06-01              43.0                172.0   \n",
       "2      1000 2018-07-01              47.0                340.0   \n",
       "3      1000 2018-08-01              52.0                408.0   \n",
       "4      1000 2018-09-01              58.0                466.0   \n",
       "5      1000 2018-10-01              57.0                350.0   \n",
       "6      1000 2018-11-01              43.0                338.0   \n",
       "7      1000 2018-12-01              46.0                333.0   \n",
       "8      1001 2018-11-01              59.0                430.0   \n",
       "9      1001 2018-12-01              63.0                414.0   \n",
       "10     1002 2018-06-01              15.0                117.0   \n",
       "11     1002 2018-07-01              26.0                214.0   \n",
       "12     1002 2018-08-01              42.0                289.0   \n",
       "13     1002 2018-09-01              36.0                206.0   \n",
       "14     1002 2018-10-01              33.0                212.0   \n",
       "\n",
       "    month_gb_rounded  month_mb_used  month_message_count tariff         city  \\\n",
       "0                3.0        2253.49                 22.0  ultra    Краснодар   \n",
       "1               23.0       23233.77                 60.0  ultra    Краснодар   \n",
       "2               14.0       14003.64                 75.0  ultra    Краснодар   \n",
       "3               14.0       14055.93                 81.0  ultra    Краснодар   \n",
       "4               15.0       14568.91                 57.0  ultra    Краснодар   \n",
       "5               15.0       14702.49                 73.0  ultra    Краснодар   \n",
       "6               15.0       14756.47                 58.0  ultra    Краснодар   \n",
       "7               10.0        9817.61                 70.0  ultra    Краснодар   \n",
       "8               18.0       18429.34                  NaN  smart       Москва   \n",
       "9               14.0       14036.66                  NaN  smart       Москва   \n",
       "10              11.0       10856.82                  4.0  smart  Стерлитамак   \n",
       "11              18.0       17580.10                 11.0  smart  Стерлитамак   \n",
       "12              20.0       20319.26                 13.0  smart  Стерлитамак   \n",
       "13              17.0       16691.08                  4.0  smart  Стерлитамак   \n",
       "14              14.0       13888.25                 10.0  smart  Стерлитамак   \n",
       "\n",
       "    profit  \n",
       "0   1950.0  \n",
       "1   1950.0  \n",
       "2   1950.0  \n",
       "3   1950.0  \n",
       "4   1950.0  \n",
       "5   1950.0  \n",
       "6   1950.0  \n",
       "7   1950.0  \n",
       "8   1150.0  \n",
       "9    550.0  \n",
       "10   550.0  \n",
       "11  1150.0  \n",
       "12  1550.0  \n",
       "13   950.0  \n",
       "14   550.0  "
      ]
     },
     "execution_count": 19,
     "metadata": {},
     "output_type": "execute_result"
    }
   ],
   "source": [
    "df_usage_total['profit'] = df_usage_total.apply(calculate_proceeds, axis=1)\n",
    "# посмотрим на итоговый результат:\n",
    "df_usage_total.head(15)"
   ]
  },
  {
   "cell_type": "markdown",
   "metadata": {},
   "source": [
    "### Итоги по шагу 2:\n",
    "Привели данные к нужному виду (типу), избавились от ненужного признака (дублировал индексы). Дубликатов в данных нет.  \n",
    "Внутренний идентификатор пока не трогали, т.к. кажется он нам не понадобится в дальнейшем анализе.  \n",
    "\n",
    "Пока также не трогаем нулевые звонки, т.к. эти данные никак не повлияют на сумму и выручку, но могут быть полезны в анализе других параметров.  \n",
    "\n",
    "Помимо этого мы округлили до целого количество минут и до гигабайтов количество мегабайтов за месяц, чтобы корректно рассчитать, сколько требуется и сколько на самом деле пользователю необходимо будет заплатить за услуги связи.\n",
    "Мы подготовили дополнительные данные (признаки), которые потребуются нам для дальнейшего анализа в проекте.\n",
    "При этом, мы заранее округлили все нужные нам значения и теперь можем быть уверены, что расчеты будут выполнены верно."
   ]
  },
  {
   "cell_type": "markdown",
   "metadata": {},
   "source": [
    "### Шаг 3. Анализ данных.\n",
    "\n",
    "Проведем анализ поведения клиентов оператора, исходя из выборки, ответив на вопросы:\n",
    "- Сколько минут разговора, сколько сообщений и какой объём интернет-трафика требуется пользователям каждого тарифа в месяц? \n",
    "- Посчитаем среднее количество, дисперсию и стандартное отклонение\n",
    "- Построим гистограммы. Опишем распределения."
   ]
  },
  {
   "cell_type": "markdown",
   "metadata": {},
   "source": [
    "#### 3.1. Построим  гистограммы для анализа."
   ]
  },
  {
   "cell_type": "code",
   "execution_count": 20,
   "metadata": {
    "ExecuteTime": {
     "end_time": "2022-10-16T15:08:28.967818Z",
     "start_time": "2022-10-16T15:08:28.806527Z"
    }
   },
   "outputs": [
    {
     "data": {
      "image/png": "[encoded data removed]",
      "text/plain": [
       "<Figure size 1152x360 with 1 Axes>"
      ]
     },
     "metadata": {
      "needs_background": "light"
     },
     "output_type": "display_data"
    }
   ],
   "source": [
    "# Поделим наши датафреймы по тарифам, чтобы дальше просто было удобней с этим работать\n",
    "df_smart = df_usage_total.query('tariff == \"smart\"')\n",
    "df_ultra = df_usage_total.query('tariff == \"ultra\"')\n",
    "# Построим гистограмму для интернет-траффика\n",
    "# Опятным путем подбираем интервалы для наших непрерывных значений\n",
    "df_smart['month_gb_rounded'].hist(bins=10, figsize=(16, 5), alpha=0.9)\n",
    "df_ultra['month_gb_rounded'].hist(bins=10, figsize=(16, 5), alpha=0.3)\n",
    "plt.title(\"Histogram of internet traffic\")\n",
    "plt.xlabel(\"internet, gb\")\n",
    "plt.ylabel(\"users count\")\n",
    "# sns.set(font_scale=1.8)\n",
    "plt.show()"
   ]
  },
  {
   "cell_type": "code",
   "execution_count": 21,
   "metadata": {
    "ExecuteTime": {
     "end_time": "2022-10-16T15:08:40.383899Z",
     "start_time": "2022-10-16T15:08:40.234508Z"
    }
   },
   "outputs": [
    {
     "data": {
      "image/png": "[encoded data removed]",
      "text/plain": [
       "<Figure size 1152x360 with 1 Axes>"
      ]
     },
     "metadata": {
      "needs_background": "light"
     },
     "output_type": "display_data"
    }
   ],
   "source": [
    "# Аналогично построим гистограмму для звонков\n",
    "# На этот раз сформируем корзины автоматически\n",
    "\n",
    "def make_bins(step, maximum):\n",
    "    maximum_calculated = int(np.ceil(maximum / 100) * 100)\n",
    "    elements_count = int(maximum_calculated / step) + 1\n",
    "\n",
    "    bins = []\n",
    "    for bin_element in range(elements_count):\n",
    "        bins.append(bin_element * step)\n",
    "\n",
    "    return bins\n",
    "\n",
    "\n",
    "# шаг также подбираем индивидуально, это сильно влияет на то, каким будет распределение\n",
    "# вероятно это связано с количеством данных и их разнородностью по тарифу ультра\n",
    "bins_smart = make_bins(50, df_smart['month_call_duration'].max())\n",
    "bins_ultra = make_bins(200, df_ultra['month_call_duration'].max())\n",
    "\n",
    "df_smart['month_call_duration'].hist(\n",
    "    bins=bins_smart, figsize=(16, 5), alpha=0.9)\n",
    "df_ultra['month_call_duration'].hist(\n",
    "    bins=bins_ultra, figsize=(16, 5), alpha=0.3)\n",
    "plt.title(\"Histogram of month_call_duration\")\n",
    "plt.xlabel(\"call, minutes\")\n",
    "plt.ylabel(\"users count\")\n",
    "plt.show()"
   ]
  },
  {
   "cell_type": "code",
   "execution_count": 22,
   "metadata": {
    "ExecuteTime": {
     "end_time": "2022-10-16T15:08:44.617400Z",
     "start_time": "2022-10-16T15:08:44.475804Z"
    }
   },
   "outputs": [
    {
     "data": {
      "image/png": "[encoded data removed]",
      "text/plain": [
       "<Figure size 1152x360 with 1 Axes>"
      ]
     },
     "metadata": {
      "needs_background": "light"
     },
     "output_type": "display_data"
    }
   ],
   "source": [
    "# Аналогично построим гистограммы для сообщений (month_message_count)\n",
    "\n",
    "bins_smart = make_bins(10, df_smart['month_message_count'].max())\n",
    "bins_ultra = make_bins(30, df_ultra['month_message_count'].max())\n",
    "\n",
    "df_smart['month_message_count'].hist(\n",
    "    bins=bins_smart, figsize=(16, 5), alpha=0.9)\n",
    "df_ultra['month_message_count'].hist(\n",
    "    bins=bins_ultra, figsize=(16, 5), alpha=0.3)\n",
    "plt.title(\"Histogram of month_message_count\")\n",
    "plt.xlabel(\"messages\")\n",
    "plt.ylabel(\"users count\")\n",
    "plt.show()"
   ]
  },
  {
   "cell_type": "markdown",
   "metadata": {},
   "source": [
    "#### Выводы по гистограммам\n",
    "\n",
    "- Интернет-траффик и количество минут разговоров имеют нормальное распределение\n",
    "- Количество сообщений описывается Пуассоновским распределением\n",
    "- Количество минут для обоих тарифов скошено влево\n",
    "- Количество трафика для тарифа ультра немного скошено вправо"
   ]
  },
  {
   "cell_type": "markdown",
   "metadata": {},
   "source": [
    "#### 3.2. Cреднее, дисперсия и стандартное отклонение"
   ]
  },
  {
   "cell_type": "code",
   "execution_count": 23,
   "metadata": {
    "ExecuteTime": {
     "end_time": "2022-10-16T15:08:51.295285Z",
     "start_time": "2022-10-16T15:08:51.272268Z"
    }
   },
   "outputs": [
    {
     "name": "stdout",
     "output_type": "stream",
     "text": [
      "TARIFF: SMART\n",
      "month_gb_rounded:\n",
      "AVG =  16.34\n",
      "MED =  17.0\n",
      "VAR =  32.92\n",
      "STD =  5.74\n",
      "\n",
      "month_call_duration:\n",
      "AVG =  419.06\n",
      "MED =  423.0\n",
      "VAR =  35844.19\n",
      "STD =  189.33\n",
      "\n",
      "month_message_count:\n",
      "AVG =  38.72\n",
      "MED =  34.0\n",
      "VAR =  717.59\n",
      "STD =  26.79\n",
      "\n",
      "profit:\n",
      "AVG =  1289.97\n",
      "MED =  1023.0\n",
      "VAR =  669785.71\n",
      "STD =  818.4\n",
      "\n"
     ]
    }
   ],
   "source": [
    "# Посчитаем среднее, дисперсию и стандартное отклонение для наших тарифов\n",
    "def print_params_data(df):\n",
    "    params_list = ['month_gb_rounded', 'month_call_duration',\n",
    "                   'month_message_count', 'profit']\n",
    "\n",
    "    for param in params_list:\n",
    "        print(param + ':')\n",
    "        print('AVG = ', round(df[param].mean(), 2))  # среднее\n",
    "        print('MED = ', round(df[param].median(), 2))  # медиана\n",
    "        # дисперсия, по выборке\n",
    "        print('VAR = ', round(np.var(df[param], ddof=1), 2))\n",
    "        # стандартное отклонение, по выборке\n",
    "        print('STD = ', round(np.std(df[param], ddof=1), 2))\n",
    "        print()\n",
    "\n",
    "\n",
    "# выведем данные для смарт-тарифа\n",
    "print('TARIFF: SMART')\n",
    "print_params_data(df_smart)"
   ]
  },
  {
   "cell_type": "code",
   "execution_count": 24,
   "metadata": {
    "ExecuteTime": {
     "end_time": "2022-10-16T15:08:56.321169Z",
     "start_time": "2022-10-16T15:08:56.306702Z"
    }
   },
   "outputs": [
    {
     "name": "stdout",
     "output_type": "stream",
     "text": [
      "TARIFF: ULTRA\n",
      "month_gb_rounded:\n",
      "AVG =  19.69\n",
      "MED =  19.0\n",
      "VAR =  94.15\n",
      "STD =  9.7\n",
      "\n",
      "month_call_duration:\n",
      "AVG =  545.45\n",
      "MED =  528.0\n",
      "VAR =  94203.42\n",
      "STD =  306.93\n",
      "\n",
      "month_message_count:\n",
      "AVG =  61.16\n",
      "MED =  51.0\n",
      "VAR =  2109.66\n",
      "STD =  45.93\n",
      "\n",
      "profit:\n",
      "AVG =  2070.15\n",
      "MED =  1950.0\n",
      "VAR =  141516.75\n",
      "STD =  376.19\n",
      "\n"
     ]
    }
   ],
   "source": [
    "# Выведем данные для ультра тарифа\n",
    "print('TARIFF: ULTRA')\n",
    "print_params_data(df_ultra)"
   ]
  },
  {
   "cell_type": "markdown",
   "metadata": {},
   "source": [
    "### Шаг 3. Вывод\n",
    "\n",
    "- Несмотря на то, что в уроках такие здоровые значения дисперсии и стандартного отклонения мы еще не видели, в контексте используемых единиц и временного промежутка, кажется что все в порядке. :)\n",
    "- Медиана слабо отличается от среднего. Поэтому можно считать, что выбросов нет и спокойно работать со средним, т.к. в контексте наших вопросов это более интересная метрика.\n",
    "- Пользователи тарифа ультра активней используют возможности своего тарифа\n",
    "- А пользователи смарт плохо укладываются в ограничения своего тарифа и серьезно переплачивают\n",
    "\n",
    "#### Сколько минут разговора, сколько сообщений и какой объём интернет-трафика требуется пользователям каждого тарифа в месяц?\n",
    "\n",
    "- Если говорить в среднем, то:\n",
    "  - SMART\n",
    "   - Трафик: 16,34 ГБ\n",
    "   - Продолжительность звонков: 419 минут\n",
    "   - Сообщений: 39\n",
    "  - ULTRA\n",
    "   - Трафик: 19,7 ГБ\n",
    "   - Продолжительность звонков: 545 минут\n",
    "   - Сообщений: 61\n"
   ]
  },
  {
   "cell_type": "markdown",
   "metadata": {},
   "source": [
    "### Шаг 4. Проверим гипотезы\n"
   ]
  },
  {
   "cell_type": "markdown",
   "metadata": {},
   "source": [
    "#### Тех.задание:\n",
    "Проверьте гипотезы:  \n",
    "\n",
    "средняя выручка пользователей тарифов «Ультра» и «Смарт» различаются;  \n",
    "\n",
    "средняя выручка пользователей из Москвы отличается от выручки пользователей из других регионов.  \n",
    "\n",
    "Пороговое значение alpha задайте самостоятельно.  \n",
    "\n",
    "Поясните:  \n",
    "\n",
    "как вы формулировали нулевую и альтернативную гипотезы;  \n",
    "\n",
    "какой критерий использовали для проверки гипотез и почему.  \n"
   ]
  },
  {
   "cell_type": "markdown",
   "metadata": {},
   "source": [
    "#### Шаг 4.1. Выручка пользователей тарифов \"Смарт\" и  \"Ультра\"\n",
    "\n",
    "Для начала сформулируем гипотезы H0 и H1.\n",
    "\n",
    "Гипотеза H0: Средняя выручка от пользователей тарифа \"Смарт\" и тарифа \"Ультра\" одинакова (т.е. мы получаем одни деньги и там, и там)  \n",
    "\n",
    "Гипотеза H1: Выручка от пользователей тарифа \"Смарт\" и тарифа \"Ультра\" различается\n",
    "\n",
    "Сформулируем это в коде"
   ]
  },
  {
   "cell_type": "code",
   "execution_count": 31,
   "metadata": {
    "ExecuteTime": {
     "end_time": "2022-05-25T15:10:11.816761Z",
     "start_time": "2022-05-25T15:10:11.804679Z"
    }
   },
   "outputs": [
    {
     "name": "stdout",
     "output_type": "stream",
     "text": [
      "Можем отвергнуть нулевую гипотезу, выручка от пользователей тарифа \"Смарт\" и тарифа \"Ультра\" различается\n",
      "Средняя выруучка от тарифа  'Смарт':  1289.9735307312696\n",
      "Средняя выруучка от тарифа  'Ультра':  2070.1522842639592\n",
      "Ttest_indResult(statistic=-37.019021231454644, pvalue=4.2606313931076085e-250)\n"
     ]
    }
   ],
   "source": [
    "# Перенесем гипотезы в код\n",
    "H0 = 'Не можем отвергнуть гипотизу - средняя выручка от пользователей тарифа \"Смарт\" и тарифа \"Ультра\" одинакова'\n",
    "H1 = 'Можем отвергнуть нулевую гипотезу, выручка от пользователей тарифа \"Смарт\" и тарифа \"Ультра\" различается'\n",
    "\n",
    "# зададим критический уровень статистической значимости в 5%\n",
    "alpha = 0.05 \n",
    "\n",
    "# equal_var = False, т.к. совокупности по параметрам различаются\n",
    "results = st.ttest_ind(df_smart['profit'], df_ultra['profit'], equal_var = False)\n",
    "\n",
    "if (results.pvalue < alpha):\n",
    "    print(H1)\n",
    "else:\n",
    "    print(H0)\n",
    "    \n",
    "# выведем среднюю выручку по тарифам:\n",
    "print(\"Средняя выруучка от тарифа  'Смарт': \",df_smart['profit'].mean())\n",
    "print(\"Средняя выруучка от тарифа  'Ультра': \",df_ultra['profit'].mean())\n",
    "print(results)"
   ]
  },
  {
   "cell_type": "markdown",
   "metadata": {},
   "source": [
    "#### Шаг 4.2.  Выручка пользователей из Москвы и других регионов\n",
    "\n",
    "Для начала сформулируем гипотезы H0 и H1.\n",
    "\n",
    "Гипотеза H0: Средняя выручка от пользователей Москвы и регионов одинакова  \n",
    "\n",
    "Гипотеза H1: Средняя выручка от пользователей Москвы и регионов различается"
   ]
  },
  {
   "cell_type": "code",
   "execution_count": 25,
   "metadata": {
    "ExecuteTime": {
     "end_time": "2022-10-16T15:10:02.074184Z",
     "start_time": "2022-10-16T15:10:02.047045Z"
    }
   },
   "outputs": [
    {
     "name": "stdout",
     "output_type": "stream",
     "text": [
      "Не можем отвергнуть гипотизу - cредняя выручка от пользователей Москвы и регионов одинакова\n",
      "Средняя выручка в городе Москва: 1546.7135842880523\n",
      "Средняя выручка в др регионах: 1524.9362274298885\n",
      "Ttest_indResult(statistic=0.606816942705698, pvalue=0.5440152911670224)\n"
     ]
    }
   ],
   "source": [
    "# выделим отдельно пользователей из Москвы и не из нее\n",
    "df_moscow = df_usage_total.query('city == \"Москва\"')\n",
    "df_other = df_usage_total.query('city != \"Москва\"')\n",
    "\n",
    "# Перенесем гипотезы в код\n",
    "alpha = 0.05\n",
    "\n",
    "H0 = 'Не можем отвергнуть гипотизу - cредняя выручка от пользователей Москвы и регионов одинакова'\n",
    "H1 = 'Можем отвергнуть нулевую гипотезу, cредняя выручка от пользователей Москвы и регионов различается'\n",
    "\n",
    "# equal_var = True, т.к. совокупности по параметрам не должны различаться\n",
    "results = st.ttest_ind(df_moscow['profit'], df_other['profit'], equal_var=True)\n",
    "\n",
    "if (results.pvalue < alpha):\n",
    "    print(H1)\n",
    "else:\n",
    "    print(H0)\n",
    "\n",
    "# выведем среднюю выручку по регионам:\n",
    "print(\"Средняя выручка в городе Москва:\", df_moscow['profit'].mean())\n",
    "print(\"Средняя выручка в др регионах:\", df_other['profit'].mean())\n",
    "print(results)"
   ]
  },
  {
   "cell_type": "markdown",
   "metadata": {},
   "source": [
    "#### Вывод по гипотезам"
   ]
  },
  {
   "cell_type": "markdown",
   "metadata": {},
   "source": [
    "- Мы отвергли гипотезу о равенстве выручки пользователей по тарифам, однако степень этой разницы и знак нужно исследовать дополнтельно\n",
    "- При этом внезапно, с большой долей вероятности средняя выручка пользователей Москвы и регионов оказалась одинакова"
   ]
  },
  {
   "cell_type": "markdown",
   "metadata": {},
   "source": [
    "### Шаг 5. Общие выводы:"
   ]
  },
  {
   "cell_type": "markdown",
   "metadata": {},
   "source": [
    "Мы провели большой серьезный анализ 2 тарифов, чтобы ответить на главный вопрос: какой тариф лучше?  \n",
    "\n",
    "Для этого мы объеденили данные из разных источников, провели обработку данных, затем сгенерировали новые признаки для дальнейшего результативного исследования.  \n",
    "\n",
    "Для решения поставленной задачи сделали помесячную сводную таблицу звонков, сообщений и интернет трафика для каждого пользователя, рассчитали выручку исходя из указанных тарифов.\n",
    "Полученные данные (звонки, сообщения, интернет трафик) были исследованы на распределение с помощью гистограмм.  \n",
    "\n",
    "После проверки данных рассчитали средние значения по услугам (звонки, сообщения, интернет трафик) пользователей по каждому тарифу.  \n",
    "\n",
    "Получили следующие показатели:  \n",
    "\n",
    "Тариф ULTRA (в среднем):  \n",
    "\n",
    " - Трафик: 19,7 ГБ  \n",
    " \n",
    " - Звонки: 545 минут  \n",
    " \n",
    " - Сообщения: 62  \n",
    " \n",
    " - выручка: 2070.15 руб.  \n",
    " \n",
    " Тариф SMART (в среднем):  \n",
    " \n",
    " - Трафик: 16,2 ГБ  \n",
    " \n",
    " - Звонки: 419 минут \n",
    " \n",
    " - Сообщения: 39  \n",
    " \n",
    " - выручка: 1289.97 руб.  \n",
    " \n",
    "\n",
    "Имея указанные данные на руках была произведена проверка гипотез:  \n",
    "\n",
    "1.Мы отвергли гипотезу о равенстве выручки пользователей по тарифам. Судя по среднему показателю выручки Тарифа ULTRA (2070.15 руб.) и Тарифа SMART (1289.97 руб.), Тарифа ULTRA для компании гораздо выгоднее.   \n",
    "\n",
    "2. При этом внезапно, с большой долей вероятности средняя выручка пользователей Москвы и регионов оказалась почти одинаковой.  \n",
    "\n",
    "В целом, предоставляемое тарифом Ультра зачастую избыточно и можно считать, что пользователи переплачивают.  "
   ]
  },
  {
   "cell_type": "code",
   "execution_count": null,
   "metadata": {},
   "outputs": [],
   "source": []
  }
 ],
 "metadata": {
  "ExecuteTimeLog": [
   {
    "duration": 1480,
    "start_time": "2022-04-16T07:40:12.438Z"
   },
   {
    "duration": 357,
    "start_time": "2022-04-16T07:40:13.920Z"
   },
   {
    "duration": 0,
    "start_time": "2022-04-16T07:40:14.279Z"
   },
   {
    "duration": 0,
    "start_time": "2022-04-16T07:40:14.280Z"
   },
   {
    "duration": 0,
    "start_time": "2022-04-16T07:40:14.281Z"
   },
   {
    "duration": 0,
    "start_time": "2022-04-16T07:40:14.282Z"
   },
   {
    "duration": 0,
    "start_time": "2022-04-16T07:40:14.283Z"
   },
   {
    "duration": 0,
    "start_time": "2022-04-16T07:40:14.284Z"
   },
   {
    "duration": 0,
    "start_time": "2022-04-16T07:40:14.285Z"
   },
   {
    "duration": 0,
    "start_time": "2022-04-16T07:40:14.299Z"
   },
   {
    "duration": 0,
    "start_time": "2022-04-16T07:40:14.301Z"
   },
   {
    "duration": 0,
    "start_time": "2022-04-16T07:40:14.301Z"
   },
   {
    "duration": 0,
    "start_time": "2022-04-16T07:40:14.303Z"
   },
   {
    "duration": 0,
    "start_time": "2022-04-16T07:40:14.304Z"
   },
   {
    "duration": 0,
    "start_time": "2022-04-16T07:40:14.305Z"
   },
   {
    "duration": 0,
    "start_time": "2022-04-16T07:40:14.306Z"
   },
   {
    "duration": 0,
    "start_time": "2022-04-16T07:40:14.307Z"
   },
   {
    "duration": 0,
    "start_time": "2022-04-16T07:40:14.308Z"
   },
   {
    "duration": 0,
    "start_time": "2022-04-16T07:40:14.309Z"
   },
   {
    "duration": 0,
    "start_time": "2022-04-16T07:40:14.310Z"
   },
   {
    "duration": 0,
    "start_time": "2022-04-16T07:40:14.311Z"
   },
   {
    "duration": 0,
    "start_time": "2022-04-16T07:40:14.312Z"
   },
   {
    "duration": 0,
    "start_time": "2022-04-16T07:40:14.312Z"
   },
   {
    "duration": 0,
    "start_time": "2022-04-16T07:40:14.313Z"
   },
   {
    "duration": 0,
    "start_time": "2022-04-16T07:40:14.314Z"
   },
   {
    "duration": 1230,
    "start_time": "2022-04-16T07:40:31.686Z"
   },
   {
    "duration": 406,
    "start_time": "2022-04-16T07:40:32.918Z"
   },
   {
    "duration": 65,
    "start_time": "2022-04-16T07:40:33.326Z"
   },
   {
    "duration": 13,
    "start_time": "2022-04-16T07:40:33.401Z"
   },
   {
    "duration": 8,
    "start_time": "2022-04-16T07:40:33.416Z"
   },
   {
    "duration": 9,
    "start_time": "2022-04-16T07:40:33.425Z"
   },
   {
    "duration": 8,
    "start_time": "2022-04-16T07:40:33.435Z"
   },
   {
    "duration": 12,
    "start_time": "2022-04-16T07:40:33.444Z"
   },
   {
    "duration": 106,
    "start_time": "2022-04-16T07:40:33.457Z"
   },
   {
    "duration": 10,
    "start_time": "2022-04-16T07:40:33.566Z"
   },
   {
    "duration": 3,
    "start_time": "2022-04-16T07:40:33.578Z"
   },
   {
    "duration": 176,
    "start_time": "2022-04-16T07:40:33.582Z"
   },
   {
    "duration": 101,
    "start_time": "2022-04-16T07:40:33.759Z"
   },
   {
    "duration": 88,
    "start_time": "2022-04-16T07:40:33.861Z"
   },
   {
    "duration": 49,
    "start_time": "2022-04-16T07:40:33.951Z"
   },
   {
    "duration": 39,
    "start_time": "2022-04-16T07:40:34.002Z"
   },
   {
    "duration": 30,
    "start_time": "2022-04-16T07:40:34.043Z"
   },
   {
    "duration": 514,
    "start_time": "2022-04-16T07:40:34.075Z"
   },
   {
    "duration": 174,
    "start_time": "2022-04-16T07:40:34.590Z"
   },
   {
    "duration": 179,
    "start_time": "2022-04-16T07:40:34.766Z"
   },
   {
    "duration": 179,
    "start_time": "2022-04-16T07:40:34.947Z"
   },
   {
    "duration": 16,
    "start_time": "2022-04-16T07:40:35.128Z"
   },
   {
    "duration": 16,
    "start_time": "2022-04-16T07:40:35.145Z"
   },
   {
    "duration": 5,
    "start_time": "2022-04-16T07:40:35.162Z"
   },
   {
    "duration": 39,
    "start_time": "2022-04-16T07:40:35.168Z"
   },
   {
    "duration": 1201,
    "start_time": "2022-04-16T07:47:13.305Z"
   },
   {
    "duration": 410,
    "start_time": "2022-04-16T07:47:14.507Z"
   },
   {
    "duration": 69,
    "start_time": "2022-04-16T07:47:14.919Z"
   },
   {
    "duration": 21,
    "start_time": "2022-04-16T07:47:14.990Z"
   },
   {
    "duration": 10,
    "start_time": "2022-04-16T07:47:15.013Z"
   },
   {
    "duration": 15,
    "start_time": "2022-04-16T07:47:15.024Z"
   },
   {
    "duration": 11,
    "start_time": "2022-04-16T07:47:15.041Z"
   },
   {
    "duration": 13,
    "start_time": "2022-04-16T07:47:15.054Z"
   },
   {
    "duration": 72,
    "start_time": "2022-04-16T07:47:15.099Z"
   },
   {
    "duration": 32,
    "start_time": "2022-04-16T07:47:15.174Z"
   },
   {
    "duration": 3,
    "start_time": "2022-04-16T07:47:15.208Z"
   },
   {
    "duration": 188,
    "start_time": "2022-04-16T07:47:15.213Z"
   },
   {
    "duration": 106,
    "start_time": "2022-04-16T07:47:15.402Z"
   },
   {
    "duration": 80,
    "start_time": "2022-04-16T07:47:15.510Z"
   },
   {
    "duration": 41,
    "start_time": "2022-04-16T07:47:15.592Z"
   },
   {
    "duration": 40,
    "start_time": "2022-04-16T07:47:15.635Z"
   },
   {
    "duration": 33,
    "start_time": "2022-04-16T07:47:15.701Z"
   },
   {
    "duration": 547,
    "start_time": "2022-04-16T07:47:15.735Z"
   },
   {
    "duration": 173,
    "start_time": "2022-04-16T07:47:16.283Z"
   },
   {
    "duration": 201,
    "start_time": "2022-04-16T07:47:16.457Z"
   },
   {
    "duration": 179,
    "start_time": "2022-04-16T07:47:16.660Z"
   },
   {
    "duration": 14,
    "start_time": "2022-04-16T07:47:16.840Z"
   },
   {
    "duration": 12,
    "start_time": "2022-04-16T07:47:16.855Z"
   },
   {
    "duration": 36,
    "start_time": "2022-04-16T07:47:16.868Z"
   },
   {
    "duration": 17,
    "start_time": "2022-04-16T07:47:16.905Z"
   },
   {
    "duration": 1245,
    "start_time": "2022-04-19T06:31:14.636Z"
   },
   {
    "duration": 127,
    "start_time": "2022-04-19T06:31:15.883Z"
   },
   {
    "duration": 0,
    "start_time": "2022-04-19T06:31:16.012Z"
   },
   {
    "duration": 0,
    "start_time": "2022-04-19T06:31:16.013Z"
   },
   {
    "duration": 0,
    "start_time": "2022-04-19T06:31:16.014Z"
   },
   {
    "duration": 0,
    "start_time": "2022-04-19T06:31:16.015Z"
   },
   {
    "duration": 0,
    "start_time": "2022-04-19T06:31:16.016Z"
   },
   {
    "duration": 0,
    "start_time": "2022-04-19T06:31:16.016Z"
   },
   {
    "duration": 0,
    "start_time": "2022-04-19T06:31:16.017Z"
   },
   {
    "duration": 0,
    "start_time": "2022-04-19T06:31:16.019Z"
   },
   {
    "duration": 0,
    "start_time": "2022-04-19T06:31:16.020Z"
   },
   {
    "duration": 0,
    "start_time": "2022-04-19T06:31:16.021Z"
   },
   {
    "duration": 0,
    "start_time": "2022-04-19T06:31:16.022Z"
   },
   {
    "duration": 0,
    "start_time": "2022-04-19T06:31:16.023Z"
   },
   {
    "duration": 0,
    "start_time": "2022-04-19T06:31:16.024Z"
   },
   {
    "duration": 0,
    "start_time": "2022-04-19T06:31:16.025Z"
   },
   {
    "duration": 0,
    "start_time": "2022-04-19T06:31:16.026Z"
   },
   {
    "duration": 0,
    "start_time": "2022-04-19T06:31:16.027Z"
   },
   {
    "duration": 0,
    "start_time": "2022-04-19T06:31:16.028Z"
   },
   {
    "duration": 0,
    "start_time": "2022-04-19T06:31:16.028Z"
   },
   {
    "duration": 0,
    "start_time": "2022-04-19T06:31:16.029Z"
   },
   {
    "duration": 0,
    "start_time": "2022-04-19T06:31:16.030Z"
   },
   {
    "duration": 0,
    "start_time": "2022-04-19T06:31:16.031Z"
   },
   {
    "duration": 0,
    "start_time": "2022-04-19T06:31:16.032Z"
   },
   {
    "duration": 0,
    "start_time": "2022-04-19T06:31:16.033Z"
   },
   {
    "duration": 0,
    "start_time": "2022-04-19T06:31:16.034Z"
   },
   {
    "duration": 0,
    "start_time": "2022-04-19T06:31:16.035Z"
   },
   {
    "duration": 2799,
    "start_time": "2022-04-19T13:30:13.865Z"
   },
   {
    "duration": 837,
    "start_time": "2022-04-19T13:30:16.668Z"
   },
   {
    "duration": 208,
    "start_time": "2022-04-19T13:30:17.512Z"
   },
   {
    "duration": 51,
    "start_time": "2022-04-19T13:30:17.725Z"
   },
   {
    "duration": 20,
    "start_time": "2022-04-19T13:30:17.778Z"
   },
   {
    "duration": 12,
    "start_time": "2022-04-19T13:30:17.801Z"
   },
   {
    "duration": 43,
    "start_time": "2022-04-19T13:30:17.815Z"
   },
   {
    "duration": 19,
    "start_time": "2022-04-19T13:30:17.860Z"
   },
   {
    "duration": 132,
    "start_time": "2022-04-19T13:30:17.881Z"
   },
   {
    "duration": 2013,
    "start_time": "2022-04-19T13:30:18.016Z"
   },
   {
    "duration": 0,
    "start_time": "2022-04-19T13:30:20.032Z"
   },
   {
    "duration": 0,
    "start_time": "2022-04-19T13:30:20.034Z"
   },
   {
    "duration": 1,
    "start_time": "2022-04-19T13:30:20.035Z"
   },
   {
    "duration": 0,
    "start_time": "2022-04-19T13:30:20.037Z"
   },
   {
    "duration": 0,
    "start_time": "2022-04-19T13:30:20.039Z"
   },
   {
    "duration": 0,
    "start_time": "2022-04-19T13:30:20.041Z"
   },
   {
    "duration": 0,
    "start_time": "2022-04-19T13:30:20.043Z"
   },
   {
    "duration": 0,
    "start_time": "2022-04-19T13:30:20.044Z"
   },
   {
    "duration": 0,
    "start_time": "2022-04-19T13:30:20.046Z"
   },
   {
    "duration": 0,
    "start_time": "2022-04-19T13:30:20.047Z"
   },
   {
    "duration": 0,
    "start_time": "2022-04-19T13:30:20.049Z"
   },
   {
    "duration": 0,
    "start_time": "2022-04-19T13:30:20.051Z"
   },
   {
    "duration": 0,
    "start_time": "2022-04-19T13:30:20.053Z"
   },
   {
    "duration": 0,
    "start_time": "2022-04-19T13:30:20.055Z"
   },
   {
    "duration": 0,
    "start_time": "2022-04-19T13:30:20.056Z"
   },
   {
    "duration": 0,
    "start_time": "2022-04-19T13:30:20.058Z"
   },
   {
    "duration": 0,
    "start_time": "2022-04-19T13:30:20.060Z"
   },
   {
    "duration": 1809,
    "start_time": "2022-04-19T17:56:43.313Z"
   },
   {
    "duration": 546,
    "start_time": "2022-04-19T17:56:45.163Z"
   },
   {
    "duration": 118,
    "start_time": "2022-04-19T17:56:52.095Z"
   },
   {
    "duration": 21,
    "start_time": "2022-04-19T17:56:54.182Z"
   },
   {
    "duration": 15,
    "start_time": "2022-04-19T17:56:54.856Z"
   },
   {
    "duration": 12,
    "start_time": "2022-04-19T17:56:55.555Z"
   },
   {
    "duration": 12,
    "start_time": "2022-04-19T17:56:56.129Z"
   },
   {
    "duration": 13,
    "start_time": "2022-04-19T17:56:56.941Z"
   },
   {
    "duration": 132,
    "start_time": "2022-04-19T17:57:02.376Z"
   },
   {
    "duration": 270,
    "start_time": "2022-04-19T17:57:04.861Z"
   },
   {
    "duration": 6,
    "start_time": "2022-04-19T17:57:05.142Z"
   },
   {
    "duration": 115,
    "start_time": "2022-04-19T17:57:08.907Z"
   },
   {
    "duration": 52,
    "start_time": "2022-04-19T17:57:11.410Z"
   },
   {
    "duration": 64,
    "start_time": "2022-04-19T17:57:12.021Z"
   },
   {
    "duration": 24,
    "start_time": "2022-04-19T17:57:12.788Z"
   },
   {
    "duration": 100,
    "start_time": "2022-04-19T17:57:14.165Z"
   },
   {
    "duration": 9,
    "start_time": "2022-04-19T17:57:15.310Z"
   },
   {
    "duration": 1039,
    "start_time": "2022-04-19T17:57:15.734Z"
   },
   {
    "duration": 407,
    "start_time": "2022-04-19T17:57:19.998Z"
   },
   {
    "duration": 358,
    "start_time": "2022-04-19T17:57:20.408Z"
   },
   {
    "duration": 320,
    "start_time": "2022-04-19T17:57:20.769Z"
   },
   {
    "duration": 20,
    "start_time": "2022-04-19T17:57:21.555Z"
   },
   {
    "duration": 16,
    "start_time": "2022-04-19T17:57:22.027Z"
   },
   {
    "duration": 9,
    "start_time": "2022-04-19T17:57:25.369Z"
   },
   {
    "duration": 15,
    "start_time": "2022-04-19T17:57:25.779Z"
   },
   {
    "duration": 1169,
    "start_time": "2022-04-19T18:22:50.364Z"
   },
   {
    "duration": 398,
    "start_time": "2022-04-19T18:22:51.535Z"
   },
   {
    "duration": 69,
    "start_time": "2022-04-19T18:22:51.935Z"
   },
   {
    "duration": 13,
    "start_time": "2022-04-19T18:22:52.007Z"
   },
   {
    "duration": 8,
    "start_time": "2022-04-19T18:22:52.022Z"
   },
   {
    "duration": 9,
    "start_time": "2022-04-19T18:22:52.031Z"
   },
   {
    "duration": 8,
    "start_time": "2022-04-19T18:22:52.041Z"
   },
   {
    "duration": 10,
    "start_time": "2022-04-19T18:22:52.050Z"
   },
   {
    "duration": 101,
    "start_time": "2022-04-19T18:22:52.062Z"
   },
   {
    "duration": 176,
    "start_time": "2022-04-19T18:22:52.166Z"
   },
   {
    "duration": 4,
    "start_time": "2022-04-19T18:22:52.343Z"
   },
   {
    "duration": 91,
    "start_time": "2022-04-19T18:22:52.349Z"
   },
   {
    "duration": 34,
    "start_time": "2022-04-19T18:22:52.442Z"
   },
   {
    "duration": 55,
    "start_time": "2022-04-19T18:22:52.477Z"
   },
   {
    "duration": 12,
    "start_time": "2022-04-19T18:22:52.534Z"
   },
   {
    "duration": 69,
    "start_time": "2022-04-19T18:22:52.547Z"
   },
   {
    "duration": 5,
    "start_time": "2022-04-19T18:22:52.618Z"
   },
   {
    "duration": 530,
    "start_time": "2022-04-19T18:22:52.624Z"
   },
   {
    "duration": 169,
    "start_time": "2022-04-19T18:22:53.156Z"
   },
   {
    "duration": 191,
    "start_time": "2022-04-19T18:22:53.327Z"
   },
   {
    "duration": 167,
    "start_time": "2022-04-19T18:22:53.519Z"
   },
   {
    "duration": 20,
    "start_time": "2022-04-19T18:22:53.687Z"
   },
   {
    "duration": 12,
    "start_time": "2022-04-19T18:22:53.708Z"
   },
   {
    "duration": 6,
    "start_time": "2022-04-19T18:22:53.721Z"
   },
   {
    "duration": 11,
    "start_time": "2022-04-19T18:22:53.728Z"
   }
  ],
  "kernelspec": {
   "display_name": "Python 3 (ipykernel)",
   "language": "python",
   "name": "python3"
  },
  "language_info": {
   "codemirror_mode": {
    "name": "ipython",
    "version": 3
   },
   "file_extension": ".py",
   "mimetype": "text/x-python",
   "name": "python",
   "nbconvert_exporter": "python",
   "pygments_lexer": "ipython3",
   "version": "3.8.13"
  },
  "toc": {
   "base_numbering": 1,
   "nav_menu": {},
   "number_sections": true,
   "sideBar": true,
   "skip_h1_title": true,
   "title_cell": "Table of Contents",
   "title_sidebar": "Contents",
   "toc_cell": false,
   "toc_position": {},
   "toc_section_display": true,
   "toc_window_display": false
  }
 },
 "nbformat": 4,
 "nbformat_minor": 2
}
